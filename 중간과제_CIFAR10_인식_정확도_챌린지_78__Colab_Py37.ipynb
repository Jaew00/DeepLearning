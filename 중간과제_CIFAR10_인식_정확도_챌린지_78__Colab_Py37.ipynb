{
  "nbformat": 4,
  "nbformat_minor": 0,
  "metadata": {
    "colab": {
      "name": "중간과제_CIFAR10_인식_정확도_챌린지-78%_Colab.Py37",
      "provenance": [],
      "collapsed_sections": [],
      "include_colab_link": true
    },
    "kernelspec": {
      "name": "python3",
      "display_name": "Python 3"
    },
    "language_info": {
      "name": "python"
    },
    "accelerator": "GPU"
  },
  "cells": [
    {
      "cell_type": "markdown",
      "metadata": {
        "id": "view-in-github",
        "colab_type": "text"
      },
      "source": [
        "<a href=\"https://colab.research.google.com/github/Jaew00/DeepLearning/blob/main/%EC%A4%91%EA%B0%84%EA%B3%BC%EC%A0%9C_CIFAR10_%EC%9D%B8%EC%8B%9D_%EC%A0%95%ED%99%95%EB%8F%84_%EC%B1%8C%EB%A6%B0%EC%A7%80_78__Colab_Py37.ipynb\" target=\"_parent\"><img src=\"https://colab.research.google.com/assets/colab-badge.svg\" alt=\"Open In Colab\"/></a>"
      ]
    },
    {
      "cell_type": "code",
      "source": [
        "gpu_info = !nvidia-smi\n",
        "gpu_info = '\\n'.join(gpu_info)\n",
        "if gpu_info.find('failed') >= 0:\n",
        "  print('Not connected to a GPU')\n",
        "else:\n",
        "  print(gpu_info)\n",
        "\n",
        "from psutil import virtual_memory\n",
        "ram_gb = virtual_memory().total / 1e9\n",
        "print('Your runtime has {:.1f} gigabytes of available RAM\\n'.format(ram_gb))\n",
        "\n",
        "if ram_gb < 20:\n",
        "  print('Not using a high-RAM runtime')\n",
        "else:\n",
        "  print('You are using a high-RAM runtime!')"
      ],
      "metadata": {
        "colab": {
          "base_uri": "https://localhost:8080/"
        },
        "id": "k504iOW4E6-U",
        "outputId": "7faf81f1-4efe-48e1-e87e-8dd175d21a44"
      },
      "execution_count": 1,
      "outputs": [
        {
          "output_type": "stream",
          "name": "stdout",
          "text": [
            "Fri May 20 13:06:15 2022       \n",
            "+-----------------------------------------------------------------------------+\n",
            "| NVIDIA-SMI 460.32.03    Driver Version: 460.32.03    CUDA Version: 11.2     |\n",
            "|-------------------------------+----------------------+----------------------+\n",
            "| GPU  Name        Persistence-M| Bus-Id        Disp.A | Volatile Uncorr. ECC |\n",
            "| Fan  Temp  Perf  Pwr:Usage/Cap|         Memory-Usage | GPU-Util  Compute M. |\n",
            "|                               |                      |               MIG M. |\n",
            "|===============================+======================+======================|\n",
            "|   0  Tesla P100-PCIE...  Off  | 00000000:00:04.0 Off |                    0 |\n",
            "| N/A   45C    P0    35W / 250W |      0MiB / 16280MiB |      0%      Default |\n",
            "|                               |                      |                  N/A |\n",
            "+-------------------------------+----------------------+----------------------+\n",
            "                                                                               \n",
            "+-----------------------------------------------------------------------------+\n",
            "| Processes:                                                                  |\n",
            "|  GPU   GI   CI        PID   Type   Process name                  GPU Memory |\n",
            "|        ID   ID                                                   Usage      |\n",
            "|=============================================================================|\n",
            "|  No running processes found                                                 |\n",
            "+-----------------------------------------------------------------------------+\n",
            "Your runtime has 13.6 gigabytes of available RAM\n",
            "\n",
            "Not using a high-RAM runtime\n"
          ]
        }
      ]
    },
    {
      "cell_type": "code",
      "source": [
        "from google.colab import drive\n",
        "drive.mount('/content/drive')"
      ],
      "metadata": {
        "colab": {
          "base_uri": "https://localhost:8080/"
        },
        "id": "GrkzsqhI8fna",
        "outputId": "88255270-9f2a-4f0c-9858-a75b3f126f39"
      },
      "execution_count": 2,
      "outputs": [
        {
          "output_type": "stream",
          "name": "stdout",
          "text": [
            "Drive already mounted at /content/drive; to attempt to forcibly remount, call drive.mount(\"/content/drive\", force_remount=True).\n"
          ]
        }
      ]
    },
    {
      "cell_type": "code",
      "source": [
        "from pyngrok import ngrok\n",
        "ngrok.kill()\n",
        "\n",
        "NGROK_AUTH_TOKEN = \"28yZuvedFcMIsybQZEATgDjFFen_32ZNhDRPnr6UnxJeWhJeZ\"\n",
        "ngrok.set_auth_token(NGROK_AUTH_TOKEN)\n",
        "\n",
        "ngrok_tunnel = ngrok.connect(addr=\"5000\", proto=\"http\", bind_tls=True)\n",
        "print(\"MLflow Tracking UI:\", ngrok_tunnel.public_url)"
      ],
      "metadata": {
        "colab": {
          "base_uri": "https://localhost:8080/"
        },
        "id": "WGi_f9iGPzhB",
        "outputId": "5db26782-70d1-4506-9717-2673d8fbb5d6"
      },
      "execution_count": 3,
      "outputs": [
        {
          "output_type": "stream",
          "name": "stdout",
          "text": [
            "MLflow Tracking UI: https://d984-34-82-62-243.ngrok.io\n"
          ]
        }
      ]
    },
    {
      "cell_type": "code",
      "execution_count": 50,
      "metadata": {
        "id": "kom0sUXOddWP"
      },
      "outputs": [],
      "source": [
        "import numpy as np\n",
        "import torch\n",
        "import torch.nn as nn\n",
        "import torch.optim as optim\n",
        "import torch.nn.init as init\n",
        "import torchvision.datasets as dset\n",
        "import torchvision.transforms as transforms\n",
        "from torch.utils.data import DataLoader\n",
        "from torch.autograd import Variable\n",
        "import matplotlib.pyplot as plt\n",
        "from torch.optim import lr_scheduler\n",
        "\n",
        "from tqdm import tqdm\n",
        "batch_size = 16\n",
        "learning_rate = 0.002\n",
        "num_epoch = 50\n",
        "device = 'cuda' if torch.cuda.is_available() else 'cpu'"
      ]
    },
    {
      "cell_type": "code",
      "source": [
        "import mlflow\n",
        "import mlflow.sklearn\n",
        "mlflow.set_experiment('ex03')"
      ],
      "metadata": {
        "colab": {
          "base_uri": "https://localhost:8080/"
        },
        "id": "sfj5ImZNM845",
        "outputId": "2a4989e7-6ea9-4db5-c6e7-924409b0be45"
      },
      "execution_count": 51,
      "outputs": [
        {
          "output_type": "execute_result",
          "data": {
            "text/plain": [
              "<Experiment: artifact_location='file:///content/mlruns/1', experiment_id='1', lifecycle_stage='active', name='ex03', tags={}>"
            ]
          },
          "metadata": {},
          "execution_count": 51
        }
      ]
    },
    {
      "cell_type": "code",
      "source": [
        "def ComputeAccr(dloader, imodel, i):\n",
        "  correct = 0\n",
        "  total = 0\n",
        "\n",
        "  for j, [imgs, labels] in enumerate(dloader) : \n",
        "    img = Variable(imgs, volatile = True).to(device) \n",
        "\n",
        "    label = Variable(labels).to(device)\n",
        "\n",
        "    output = imodel.forward(img)\n",
        "    _, output_index = torch.max(output, 1)\n",
        "\n",
        "    total += label.size(0)\n",
        "    correct += (output_index == label).sum().float()\n",
        "\n",
        "  acc = 100*correct/total\n",
        "  acc = float(acc.cpu().numpy())\n",
        "  print(\"%dth Accuracy of Test Data: {}\".format(acc) %i)\n",
        "  return acc"
      ],
      "metadata": {
        "id": "5RPJ-vWhimFd"
      },
      "execution_count": 52,
      "outputs": []
    },
    {
      "cell_type": "code",
      "source": [
        "cifar_train=dset.CIFAR10('CIFAR10/', train=True,\n",
        "                         transform=transforms.Compose([\n",
        "                          transforms.Resize(32),\n",
        "                          transforms.ToTensor(),\n",
        "                          transforms.Normalize(mean= (0.5, 0.5, 0.5),\n",
        "                                               std=(0.5, 0.5, 0.5)),\n",
        "                         ]),\n",
        "                         target_transform=None, download=True)\n",
        "\n",
        "cifar_test=dset.CIFAR10('CIFAR10/', train=False,\n",
        "                         transform=transforms.Compose([\n",
        "                          transforms.ToTensor(),\n",
        "                          transforms.Normalize(mean= (0.5, 0.5, 0.5),\n",
        "                                               std=(0.5, 0.5, 0.5)),\n",
        "                         ]),\n",
        "                         target_transform=None, download=True)"
      ],
      "metadata": {
        "colab": {
          "base_uri": "https://localhost:8080/"
        },
        "id": "lIZ2a5xOdlwD",
        "outputId": "a61dc4f3-1e00-4559-f136-7e2110290f7a"
      },
      "execution_count": 53,
      "outputs": [
        {
          "output_type": "stream",
          "name": "stdout",
          "text": [
            "Files already downloaded and verified\n",
            "Files already downloaded and verified\n"
          ]
        }
      ]
    },
    {
      "cell_type": "code",
      "source": [
        "train_loader = torch.utils.data.DataLoader(list(cifar_train)[:], \n",
        "                                           batch_size = batch_size, \n",
        "                                           shuffle = True,\n",
        "                                           num_workers=2, \n",
        "                                           drop_last = True)\n",
        "test_loader = torch.utils.data.DataLoader(cifar_test, \n",
        "                                          batch_size = batch_size, \n",
        "                                          shuffle = False,\n",
        "                                          num_workers=2, \n",
        "                                          drop_last = True)\n"
      ],
      "metadata": {
        "id": "GeQyjNNNdqNG"
      },
      "execution_count": 54,
      "outputs": []
    },
    {
      "cell_type": "code",
      "source": [
        "from torch.nn.modules.dropout import Dropout2d\n",
        "from torch.nn.modules.pooling import MaxPool2d\n",
        "from torch.nn.modules.conv import Conv2d\n",
        "\n",
        "\n",
        "# ===== 4. 모델 선언 =====\n",
        "class CNN(nn.Module) :\n",
        "  def __init__(self) :\n",
        "    super(CNN, self).__init__()\n",
        "    self.layer = nn.Sequential(\n",
        "        nn.Conv2d(3, 8, 3, padding=1),\n",
        "        nn.ELU(),\n",
        "        #nn.Dropout2d(0.2),\n",
        "        nn.BatchNorm2d(8),\n",
        "\n",
        "        nn.Conv2d(8, 32, 3, padding=1),\n",
        "        nn.ELU(),\n",
        "        #nn.Dropout2d(0.2),\n",
        "        nn.BatchNorm2d(32),\n",
        "        nn.MaxPool2d(2, 2),\n",
        "\n",
        "        nn.Conv2d(32, 64, 3, padding=1),\n",
        "        nn.ELU(),\n",
        "        nn.Dropout2d(0.2),\n",
        "        nn.BatchNorm2d(64),\n",
        "        nn.MaxPool2d(2, 2),\n",
        "    )\n",
        "\n",
        "    self.fc_layer=nn.Sequential(\n",
        "        nn.Linear(64 * 8 * 8, 1500),\n",
        "        nn.ELU(),\n",
        "        nn.Dropout2d(p=0.2),\n",
        "        nn.BatchNorm1d(1500),\n",
        "        nn.Linear(1500, 10),\n",
        "    )\n",
        "    \n",
        "    for m in self.modules():\n",
        "      if isinstance(m, nn.Conv2d):\n",
        "          init.kaiming_normal_(m.weight.data)\n",
        "          m.bias.data.fill_(0)\n",
        "      if isinstance(m, nn.Linear):\n",
        "          init.kaiming_normal_(m.weight.data)\n",
        "          m.bias.data.fill_(0)\n",
        "\n",
        "\n",
        "  def forward(self, x):\n",
        "    out = self.layer(x)\n",
        "    out = out.view(batch_size, -1)\n",
        "    out = self.fc_layer(out)\n",
        "\n",
        "    return out"
      ],
      "metadata": {
        "id": "zXSBxWUWdeyo"
      },
      "execution_count": 55,
      "outputs": []
    },
    {
      "cell_type": "code",
      "source": [
        "from torch.utils.tensorboard import SummaryWriter\n",
        "\n",
        "def my_train(i_num_epoch, i_learning_rate) :\n",
        "  loss_arr = []\n",
        "  mlflow.end_run()\n",
        "  with mlflow.start_run() :\n",
        "    net_name = '/content/drive/MyDrive/Colab Notebooks/weights/best_weights6.pkl'\n",
        "\n",
        "    #model = torch.load(net_name)\n",
        "    model = CNN().to(device)\n",
        "    loss_func = nn.CrossEntropyLoss().to(device)\n",
        "    optimizer=torch.optim.Adam(model.parameters(), lr=learning_rate)\n",
        "    #scheduler = lr_scheduler.CosineAnnealingLR(optimizer, T_max=50, eta_min=1e-4)\n",
        "    scheduler = lr_scheduler.CosineAnnealingWarmRestarts(optimizer, T_0=10, T_mult=1, eta_min=1e-4)\n",
        "    max_acc = 0\n",
        "\n",
        "\n",
        "    with SummaryWriter('runs') as writer :\n",
        "      for i in range(i_num_epoch) :\n",
        "        model = model.train()\n",
        "\n",
        "        for j, [image, label] in enumerate(train_loader):\n",
        "          x=Variable(image).to(device)\n",
        "          y_=Variable(label).to(device)\n",
        "\n",
        "          optimizer.zero_grad()\n",
        "          output=model.forward(x)\n",
        "          loss=loss_func(output,y_)\n",
        "          loss.backward()\n",
        "          optimizer.step()\n",
        "          scheduler.step()\n",
        "\n",
        "          if j%1000==0:\n",
        "            print(j, loss)\n",
        "            loss_arr.append(loss.cpu().detach().numpy())\n",
        "            \n",
        "        model.eval()    \n",
        "        acc = ComputeAccr(test_loader, model, i)\n",
        "        writer.add_scalar('accuracy', acc, i_num_epoch)\n",
        "\n",
        "        if acc > max_acc :\n",
        "          print(\"best acc updated:\",acc)\n",
        "          max_acc = acc\n",
        "          torch.save(model, net_name)\n",
        "\n",
        "      plt.plot(loss_arr)\n",
        "      plt.show()\n",
        "      print(max_acc)\n",
        "\n",
        "      mlflow.log_param(\"epoch\", i_num_epoch)\n",
        "      mlflow.log_param(\"lr\", i_learning_rate)\n",
        "      mlflow.log_metric(\"accr\", max_acc)\n",
        "      mlflow.sklearn.log_model(model, \"model\")"
      ],
      "metadata": {
        "id": "163oe8z_Nr9e"
      },
      "execution_count": 56,
      "outputs": []
    },
    {
      "cell_type": "code",
      "source": [
        "my_train(i_num_epoch=num_epoch, i_learning_rate=learning_rate)"
      ],
      "metadata": {
        "colab": {
          "base_uri": "https://localhost:8080/",
          "height": 1000
        },
        "id": "urN6KG25M9s0",
        "outputId": "6b1a46b0-56ee-47ac-e55a-6dabd126b76d"
      },
      "execution_count": 57,
      "outputs": [
        {
          "output_type": "stream",
          "name": "stderr",
          "text": [
            "/usr/local/lib/python3.7/dist-packages/torch/nn/functional.py:1320: UserWarning: dropout2d: Received a 2-D input to dropout2d, which is deprecated and will result in an error in a future release. To retain the behavior and silence this warning, please use dropout instead. Note that dropout2d exists to provide channel-wise dropout on inputs with 2 spatial dimensions, a channel dimension, and an optional batch dimension (i.e. 3D or 4D inputs).\n",
            "  warnings.warn(warn_msg)\n"
          ]
        },
        {
          "output_type": "stream",
          "name": "stdout",
          "text": [
            "0 tensor(3.1369, device='cuda:0', grad_fn=<NllLossBackward0>)\n",
            "1000 tensor(1.5835, device='cuda:0', grad_fn=<NllLossBackward0>)\n",
            "2000 tensor(1.7174, device='cuda:0', grad_fn=<NllLossBackward0>)\n",
            "3000 tensor(1.8763, device='cuda:0', grad_fn=<NllLossBackward0>)\n"
          ]
        },
        {
          "output_type": "stream",
          "name": "stderr",
          "text": [
            "/usr/local/lib/python3.7/dist-packages/ipykernel_launcher.py:6: UserWarning: volatile was removed and now has no effect. Use `with torch.no_grad():` instead.\n",
            "  \n"
          ]
        },
        {
          "output_type": "stream",
          "name": "stdout",
          "text": [
            "0th Accuracy of Test Data: 63.2599983215332\n",
            "best acc updated: 63.2599983215332\n",
            "0 tensor(1.2456, device='cuda:0', grad_fn=<NllLossBackward0>)\n",
            "1000 tensor(1.3250, device='cuda:0', grad_fn=<NllLossBackward0>)\n",
            "2000 tensor(1.3260, device='cuda:0', grad_fn=<NllLossBackward0>)\n",
            "3000 tensor(1.2831, device='cuda:0', grad_fn=<NllLossBackward0>)\n",
            "1th Accuracy of Test Data: 68.41999816894531\n",
            "best acc updated: 68.41999816894531\n",
            "0 tensor(1.2518, device='cuda:0', grad_fn=<NllLossBackward0>)\n",
            "1000 tensor(1.4157, device='cuda:0', grad_fn=<NllLossBackward0>)\n",
            "2000 tensor(1.4143, device='cuda:0', grad_fn=<NllLossBackward0>)\n",
            "3000 tensor(1.0149, device='cuda:0', grad_fn=<NllLossBackward0>)\n",
            "2th Accuracy of Test Data: 72.5999984741211\n",
            "best acc updated: 72.5999984741211\n",
            "0 tensor(1.1820, device='cuda:0', grad_fn=<NllLossBackward0>)\n",
            "1000 tensor(0.6115, device='cuda:0', grad_fn=<NllLossBackward0>)\n",
            "2000 tensor(0.5757, device='cuda:0', grad_fn=<NllLossBackward0>)\n",
            "3000 tensor(0.5889, device='cuda:0', grad_fn=<NllLossBackward0>)\n",
            "3th Accuracy of Test Data: 74.6500015258789\n",
            "best acc updated: 74.6500015258789\n",
            "0 tensor(0.7858, device='cuda:0', grad_fn=<NllLossBackward0>)\n",
            "1000 tensor(1.0766, device='cuda:0', grad_fn=<NllLossBackward0>)\n",
            "2000 tensor(0.8433, device='cuda:0', grad_fn=<NllLossBackward0>)\n",
            "3000 tensor(0.8708, device='cuda:0', grad_fn=<NllLossBackward0>)\n",
            "4th Accuracy of Test Data: 74.88999938964844\n",
            "best acc updated: 74.88999938964844\n",
            "0 tensor(0.7820, device='cuda:0', grad_fn=<NllLossBackward0>)\n",
            "1000 tensor(0.9382, device='cuda:0', grad_fn=<NllLossBackward0>)\n",
            "2000 tensor(0.9602, device='cuda:0', grad_fn=<NllLossBackward0>)\n",
            "3000 tensor(1.1040, device='cuda:0', grad_fn=<NllLossBackward0>)\n",
            "5th Accuracy of Test Data: 75.68000030517578\n",
            "best acc updated: 75.68000030517578\n",
            "0 tensor(0.7117, device='cuda:0', grad_fn=<NllLossBackward0>)\n",
            "1000 tensor(0.8910, device='cuda:0', grad_fn=<NllLossBackward0>)\n",
            "2000 tensor(0.7255, device='cuda:0', grad_fn=<NllLossBackward0>)\n",
            "3000 tensor(0.8113, device='cuda:0', grad_fn=<NllLossBackward0>)\n",
            "6th Accuracy of Test Data: 76.38999938964844\n",
            "best acc updated: 76.38999938964844\n",
            "0 tensor(0.3638, device='cuda:0', grad_fn=<NllLossBackward0>)\n",
            "1000 tensor(0.5455, device='cuda:0', grad_fn=<NllLossBackward0>)\n",
            "2000 tensor(0.9704, device='cuda:0', grad_fn=<NllLossBackward0>)\n",
            "3000 tensor(1.2264, device='cuda:0', grad_fn=<NllLossBackward0>)\n",
            "7th Accuracy of Test Data: 76.79000091552734\n",
            "best acc updated: 76.79000091552734\n",
            "0 tensor(0.4265, device='cuda:0', grad_fn=<NllLossBackward0>)\n",
            "1000 tensor(0.7349, device='cuda:0', grad_fn=<NllLossBackward0>)\n",
            "2000 tensor(0.9474, device='cuda:0', grad_fn=<NllLossBackward0>)\n",
            "3000 tensor(0.4140, device='cuda:0', grad_fn=<NllLossBackward0>)\n",
            "8th Accuracy of Test Data: 76.33000183105469\n",
            "0 tensor(0.7518, device='cuda:0', grad_fn=<NllLossBackward0>)\n",
            "1000 tensor(0.7130, device='cuda:0', grad_fn=<NllLossBackward0>)\n",
            "2000 tensor(1.2973, device='cuda:0', grad_fn=<NllLossBackward0>)\n",
            "3000 tensor(0.4613, device='cuda:0', grad_fn=<NllLossBackward0>)\n",
            "9th Accuracy of Test Data: 76.97000122070312\n",
            "best acc updated: 76.97000122070312\n",
            "0 tensor(0.3805, device='cuda:0', grad_fn=<NllLossBackward0>)\n",
            "1000 tensor(0.5271, device='cuda:0', grad_fn=<NllLossBackward0>)\n",
            "2000 tensor(0.6973, device='cuda:0', grad_fn=<NllLossBackward0>)\n",
            "3000 tensor(0.4755, device='cuda:0', grad_fn=<NllLossBackward0>)\n",
            "10th Accuracy of Test Data: 76.48999786376953\n",
            "0 tensor(0.6403, device='cuda:0', grad_fn=<NllLossBackward0>)\n",
            "1000 tensor(0.3910, device='cuda:0', grad_fn=<NllLossBackward0>)\n",
            "2000 tensor(0.7434, device='cuda:0', grad_fn=<NllLossBackward0>)\n",
            "3000 tensor(0.4551, device='cuda:0', grad_fn=<NllLossBackward0>)\n",
            "11th Accuracy of Test Data: 76.36000061035156\n",
            "0 tensor(0.5689, device='cuda:0', grad_fn=<NllLossBackward0>)\n",
            "1000 tensor(0.8143, device='cuda:0', grad_fn=<NllLossBackward0>)\n",
            "2000 tensor(1.3562, device='cuda:0', grad_fn=<NllLossBackward0>)\n",
            "3000 tensor(0.4096, device='cuda:0', grad_fn=<NllLossBackward0>)\n",
            "12th Accuracy of Test Data: 75.77999877929688\n",
            "0 tensor(0.6995, device='cuda:0', grad_fn=<NllLossBackward0>)\n",
            "1000 tensor(0.3045, device='cuda:0', grad_fn=<NllLossBackward0>)\n",
            "2000 tensor(0.6940, device='cuda:0', grad_fn=<NllLossBackward0>)\n",
            "3000 tensor(0.5792, device='cuda:0', grad_fn=<NllLossBackward0>)\n",
            "13th Accuracy of Test Data: 75.5999984741211\n",
            "0 tensor(0.5692, device='cuda:0', grad_fn=<NllLossBackward0>)\n",
            "1000 tensor(0.6210, device='cuda:0', grad_fn=<NllLossBackward0>)\n",
            "2000 tensor(0.6239, device='cuda:0', grad_fn=<NllLossBackward0>)\n",
            "3000 tensor(1.0021, device='cuda:0', grad_fn=<NllLossBackward0>)\n",
            "14th Accuracy of Test Data: 76.25\n",
            "0 tensor(0.4278, device='cuda:0', grad_fn=<NllLossBackward0>)\n",
            "1000 tensor(1.0305, device='cuda:0', grad_fn=<NllLossBackward0>)\n",
            "2000 tensor(1.1738, device='cuda:0', grad_fn=<NllLossBackward0>)\n",
            "3000 tensor(0.3522, device='cuda:0', grad_fn=<NllLossBackward0>)\n",
            "15th Accuracy of Test Data: 76.08999633789062\n",
            "0 tensor(1.0161, device='cuda:0', grad_fn=<NllLossBackward0>)\n",
            "1000 tensor(0.7041, device='cuda:0', grad_fn=<NllLossBackward0>)\n",
            "2000 tensor(1.0935, device='cuda:0', grad_fn=<NllLossBackward0>)\n",
            "3000 tensor(0.2070, device='cuda:0', grad_fn=<NllLossBackward0>)\n",
            "16th Accuracy of Test Data: 76.45999908447266\n",
            "0 tensor(0.3271, device='cuda:0', grad_fn=<NllLossBackward0>)\n",
            "1000 tensor(0.7347, device='cuda:0', grad_fn=<NllLossBackward0>)\n",
            "2000 tensor(0.5036, device='cuda:0', grad_fn=<NllLossBackward0>)\n",
            "3000 tensor(0.8202, device='cuda:0', grad_fn=<NllLossBackward0>)\n",
            "17th Accuracy of Test Data: 76.94999694824219\n",
            "0 tensor(0.7687, device='cuda:0', grad_fn=<NllLossBackward0>)\n",
            "1000 tensor(0.5517, device='cuda:0', grad_fn=<NllLossBackward0>)\n",
            "2000 tensor(1.1442, device='cuda:0', grad_fn=<NllLossBackward0>)\n",
            "3000 tensor(0.5039, device='cuda:0', grad_fn=<NllLossBackward0>)\n",
            "18th Accuracy of Test Data: 76.9000015258789\n",
            "0 tensor(0.9518, device='cuda:0', grad_fn=<NllLossBackward0>)\n",
            "1000 tensor(0.4431, device='cuda:0', grad_fn=<NllLossBackward0>)\n",
            "2000 tensor(0.4896, device='cuda:0', grad_fn=<NllLossBackward0>)\n",
            "3000 tensor(1.0248, device='cuda:0', grad_fn=<NllLossBackward0>)\n",
            "19th Accuracy of Test Data: 76.41999816894531\n",
            "0 tensor(0.6810, device='cuda:0', grad_fn=<NllLossBackward0>)\n",
            "1000 tensor(0.3077, device='cuda:0', grad_fn=<NllLossBackward0>)\n",
            "2000 tensor(0.2036, device='cuda:0', grad_fn=<NllLossBackward0>)\n",
            "3000 tensor(0.6593, device='cuda:0', grad_fn=<NllLossBackward0>)\n",
            "20th Accuracy of Test Data: 77.25\n",
            "best acc updated: 77.25\n",
            "0 tensor(1.0060, device='cuda:0', grad_fn=<NllLossBackward0>)\n",
            "1000 tensor(0.5778, device='cuda:0', grad_fn=<NllLossBackward0>)\n",
            "2000 tensor(0.5461, device='cuda:0', grad_fn=<NllLossBackward0>)\n",
            "3000 tensor(0.9040, device='cuda:0', grad_fn=<NllLossBackward0>)\n",
            "21th Accuracy of Test Data: 77.27999877929688\n",
            "best acc updated: 77.27999877929688\n",
            "0 tensor(0.1683, device='cuda:0', grad_fn=<NllLossBackward0>)\n",
            "1000 tensor(0.5523, device='cuda:0', grad_fn=<NllLossBackward0>)\n",
            "2000 tensor(1.0583, device='cuda:0', grad_fn=<NllLossBackward0>)\n",
            "3000 tensor(1.0567, device='cuda:0', grad_fn=<NllLossBackward0>)\n",
            "22th Accuracy of Test Data: 77.43999481201172\n",
            "best acc updated: 77.43999481201172\n",
            "0 tensor(0.5686, device='cuda:0', grad_fn=<NllLossBackward0>)\n",
            "1000 tensor(0.5763, device='cuda:0', grad_fn=<NllLossBackward0>)\n",
            "2000 tensor(0.6767, device='cuda:0', grad_fn=<NllLossBackward0>)\n",
            "3000 tensor(0.3016, device='cuda:0', grad_fn=<NllLossBackward0>)\n",
            "23th Accuracy of Test Data: 76.5999984741211\n",
            "0 tensor(1.4916, device='cuda:0', grad_fn=<NllLossBackward0>)\n",
            "1000 tensor(0.7902, device='cuda:0', grad_fn=<NllLossBackward0>)\n",
            "2000 tensor(0.2938, device='cuda:0', grad_fn=<NllLossBackward0>)\n",
            "3000 tensor(0.3821, device='cuda:0', grad_fn=<NllLossBackward0>)\n",
            "24th Accuracy of Test Data: 76.83999633789062\n",
            "0 tensor(0.6027, device='cuda:0', grad_fn=<NllLossBackward0>)\n",
            "1000 tensor(0.7196, device='cuda:0', grad_fn=<NllLossBackward0>)\n",
            "2000 tensor(1.0345, device='cuda:0', grad_fn=<NllLossBackward0>)\n",
            "3000 tensor(0.3391, device='cuda:0', grad_fn=<NllLossBackward0>)\n",
            "25th Accuracy of Test Data: 77.29000091552734\n",
            "0 tensor(0.4359, device='cuda:0', grad_fn=<NllLossBackward0>)\n",
            "1000 tensor(1.0412, device='cuda:0', grad_fn=<NllLossBackward0>)\n",
            "2000 tensor(0.2825, device='cuda:0', grad_fn=<NllLossBackward0>)\n",
            "3000 tensor(0.9775, device='cuda:0', grad_fn=<NllLossBackward0>)\n",
            "26th Accuracy of Test Data: 77.29999542236328\n",
            "0 tensor(0.9647, device='cuda:0', grad_fn=<NllLossBackward0>)\n",
            "1000 tensor(0.4986, device='cuda:0', grad_fn=<NllLossBackward0>)\n",
            "2000 tensor(0.3460, device='cuda:0', grad_fn=<NllLossBackward0>)\n",
            "3000 tensor(0.3984, device='cuda:0', grad_fn=<NllLossBackward0>)\n",
            "27th Accuracy of Test Data: 76.5199966430664\n",
            "0 tensor(0.6163, device='cuda:0', grad_fn=<NllLossBackward0>)\n",
            "1000 tensor(0.3967, device='cuda:0', grad_fn=<NllLossBackward0>)\n",
            "2000 tensor(0.6638, device='cuda:0', grad_fn=<NllLossBackward0>)\n",
            "3000 tensor(0.4658, device='cuda:0', grad_fn=<NllLossBackward0>)\n",
            "28th Accuracy of Test Data: 76.5999984741211\n",
            "0 tensor(0.4817, device='cuda:0', grad_fn=<NllLossBackward0>)\n",
            "1000 tensor(0.5298, device='cuda:0', grad_fn=<NllLossBackward0>)\n",
            "2000 tensor(0.5075, device='cuda:0', grad_fn=<NllLossBackward0>)\n",
            "3000 tensor(0.4449, device='cuda:0', grad_fn=<NllLossBackward0>)\n",
            "29th Accuracy of Test Data: 76.8499984741211\n",
            "0 tensor(0.0473, device='cuda:0', grad_fn=<NllLossBackward0>)\n",
            "1000 tensor(0.4595, device='cuda:0', grad_fn=<NllLossBackward0>)\n",
            "2000 tensor(0.9219, device='cuda:0', grad_fn=<NllLossBackward0>)\n",
            "3000 tensor(0.4810, device='cuda:0', grad_fn=<NllLossBackward0>)\n",
            "30th Accuracy of Test Data: 76.88999938964844\n",
            "0 tensor(0.4432, device='cuda:0', grad_fn=<NllLossBackward0>)\n",
            "1000 tensor(0.8681, device='cuda:0', grad_fn=<NllLossBackward0>)\n",
            "2000 tensor(0.4856, device='cuda:0', grad_fn=<NllLossBackward0>)\n",
            "3000 tensor(0.8968, device='cuda:0', grad_fn=<NllLossBackward0>)\n",
            "31th Accuracy of Test Data: 76.98999786376953\n",
            "0 tensor(0.2941, device='cuda:0', grad_fn=<NllLossBackward0>)\n",
            "1000 tensor(0.6971, device='cuda:0', grad_fn=<NllLossBackward0>)\n",
            "2000 tensor(0.6007, device='cuda:0', grad_fn=<NllLossBackward0>)\n",
            "3000 tensor(0.4243, device='cuda:0', grad_fn=<NllLossBackward0>)\n",
            "32th Accuracy of Test Data: 77.12999725341797\n",
            "0 tensor(0.6881, device='cuda:0', grad_fn=<NllLossBackward0>)\n",
            "1000 tensor(0.3189, device='cuda:0', grad_fn=<NllLossBackward0>)\n",
            "2000 tensor(0.3553, device='cuda:0', grad_fn=<NllLossBackward0>)\n",
            "3000 tensor(0.7810, device='cuda:0', grad_fn=<NllLossBackward0>)\n",
            "33th Accuracy of Test Data: 77.04999542236328\n",
            "0 tensor(0.1994, device='cuda:0', grad_fn=<NllLossBackward0>)\n",
            "1000 tensor(0.4581, device='cuda:0', grad_fn=<NllLossBackward0>)\n",
            "2000 tensor(0.3467, device='cuda:0', grad_fn=<NllLossBackward0>)\n",
            "3000 tensor(0.4537, device='cuda:0', grad_fn=<NllLossBackward0>)\n",
            "34th Accuracy of Test Data: 77.5\n",
            "best acc updated: 77.5\n",
            "0 tensor(0.7765, device='cuda:0', grad_fn=<NllLossBackward0>)\n",
            "1000 tensor(0.6708, device='cuda:0', grad_fn=<NllLossBackward0>)\n",
            "2000 tensor(0.8194, device='cuda:0', grad_fn=<NllLossBackward0>)\n",
            "3000 tensor(1.1061, device='cuda:0', grad_fn=<NllLossBackward0>)\n",
            "35th Accuracy of Test Data: 76.63999938964844\n",
            "0 tensor(0.5955, device='cuda:0', grad_fn=<NllLossBackward0>)\n",
            "1000 tensor(0.2725, device='cuda:0', grad_fn=<NllLossBackward0>)\n",
            "2000 tensor(0.7610, device='cuda:0', grad_fn=<NllLossBackward0>)\n",
            "3000 tensor(0.8029, device='cuda:0', grad_fn=<NllLossBackward0>)\n",
            "36th Accuracy of Test Data: 77.47000122070312\n",
            "0 tensor(0.4140, device='cuda:0', grad_fn=<NllLossBackward0>)\n",
            "1000 tensor(0.5227, device='cuda:0', grad_fn=<NllLossBackward0>)\n",
            "2000 tensor(0.0166, device='cuda:0', grad_fn=<NllLossBackward0>)\n",
            "3000 tensor(0.4509, device='cuda:0', grad_fn=<NllLossBackward0>)\n",
            "37th Accuracy of Test Data: 77.7699966430664\n",
            "best acc updated: 77.7699966430664\n",
            "0 tensor(0.4322, device='cuda:0', grad_fn=<NllLossBackward0>)\n",
            "1000 tensor(0.5898, device='cuda:0', grad_fn=<NllLossBackward0>)\n",
            "2000 tensor(0.9320, device='cuda:0', grad_fn=<NllLossBackward0>)\n",
            "3000 tensor(0.8799, device='cuda:0', grad_fn=<NllLossBackward0>)\n",
            "38th Accuracy of Test Data: 77.0199966430664\n",
            "0 tensor(1.2032, device='cuda:0', grad_fn=<NllLossBackward0>)\n",
            "1000 tensor(0.1695, device='cuda:0', grad_fn=<NllLossBackward0>)\n",
            "2000 tensor(0.8887, device='cuda:0', grad_fn=<NllLossBackward0>)\n",
            "3000 tensor(0.7712, device='cuda:0', grad_fn=<NllLossBackward0>)\n",
            "39th Accuracy of Test Data: 77.00999450683594\n",
            "0 tensor(0.1998, device='cuda:0', grad_fn=<NllLossBackward0>)\n",
            "1000 tensor(0.9636, device='cuda:0', grad_fn=<NllLossBackward0>)\n",
            "2000 tensor(0.4588, device='cuda:0', grad_fn=<NllLossBackward0>)\n",
            "3000 tensor(0.7381, device='cuda:0', grad_fn=<NllLossBackward0>)\n",
            "40th Accuracy of Test Data: 77.43999481201172\n",
            "0 tensor(0.5835, device='cuda:0', grad_fn=<NllLossBackward0>)\n",
            "1000 tensor(0.5183, device='cuda:0', grad_fn=<NllLossBackward0>)\n",
            "2000 tensor(0.3253, device='cuda:0', grad_fn=<NllLossBackward0>)\n",
            "3000 tensor(0.3673, device='cuda:0', grad_fn=<NllLossBackward0>)\n",
            "41th Accuracy of Test Data: 77.15999603271484\n",
            "0 tensor(0.6077, device='cuda:0', grad_fn=<NllLossBackward0>)\n",
            "1000 tensor(0.5352, device='cuda:0', grad_fn=<NllLossBackward0>)\n",
            "2000 tensor(0.9866, device='cuda:0', grad_fn=<NllLossBackward0>)\n",
            "3000 tensor(0.4689, device='cuda:0', grad_fn=<NllLossBackward0>)\n",
            "42th Accuracy of Test Data: 77.02999877929688\n",
            "0 tensor(0.2908, device='cuda:0', grad_fn=<NllLossBackward0>)\n",
            "1000 tensor(0.5373, device='cuda:0', grad_fn=<NllLossBackward0>)\n",
            "2000 tensor(0.8291, device='cuda:0', grad_fn=<NllLossBackward0>)\n",
            "3000 tensor(0.6323, device='cuda:0', grad_fn=<NllLossBackward0>)\n",
            "43th Accuracy of Test Data: 78.06999969482422\n",
            "best acc updated: 78.06999969482422\n",
            "0 tensor(0.2219, device='cuda:0', grad_fn=<NllLossBackward0>)\n",
            "1000 tensor(0.6543, device='cuda:0', grad_fn=<NllLossBackward0>)\n",
            "2000 tensor(1.0803, device='cuda:0', grad_fn=<NllLossBackward0>)\n",
            "3000 tensor(1.2487, device='cuda:0', grad_fn=<NllLossBackward0>)\n",
            "44th Accuracy of Test Data: 77.45999908447266\n",
            "0 tensor(1.8481, device='cuda:0', grad_fn=<NllLossBackward0>)\n",
            "1000 tensor(0.3443, device='cuda:0', grad_fn=<NllLossBackward0>)\n",
            "2000 tensor(0.2901, device='cuda:0', grad_fn=<NllLossBackward0>)\n",
            "3000 tensor(0.8425, device='cuda:0', grad_fn=<NllLossBackward0>)\n",
            "45th Accuracy of Test Data: 77.70999908447266\n",
            "0 tensor(0.8318, device='cuda:0', grad_fn=<NllLossBackward0>)\n",
            "1000 tensor(0.5888, device='cuda:0', grad_fn=<NllLossBackward0>)\n",
            "2000 tensor(0.6136, device='cuda:0', grad_fn=<NllLossBackward0>)\n",
            "3000 tensor(0.9895, device='cuda:0', grad_fn=<NllLossBackward0>)\n",
            "46th Accuracy of Test Data: 77.47000122070312\n",
            "0 tensor(0.4369, device='cuda:0', grad_fn=<NllLossBackward0>)\n",
            "1000 tensor(0.3188, device='cuda:0', grad_fn=<NllLossBackward0>)\n",
            "2000 tensor(0.6004, device='cuda:0', grad_fn=<NllLossBackward0>)\n",
            "3000 tensor(0.5255, device='cuda:0', grad_fn=<NllLossBackward0>)\n",
            "47th Accuracy of Test Data: 76.54999542236328\n",
            "0 tensor(0.6522, device='cuda:0', grad_fn=<NllLossBackward0>)\n",
            "1000 tensor(0.6808, device='cuda:0', grad_fn=<NllLossBackward0>)\n",
            "2000 tensor(0.6296, device='cuda:0', grad_fn=<NllLossBackward0>)\n",
            "3000 tensor(0.3900, device='cuda:0', grad_fn=<NllLossBackward0>)\n",
            "48th Accuracy of Test Data: 77.18000030517578\n",
            "0 tensor(0.2082, device='cuda:0', grad_fn=<NllLossBackward0>)\n",
            "1000 tensor(0.5145, device='cuda:0', grad_fn=<NllLossBackward0>)\n",
            "2000 tensor(0.6696, device='cuda:0', grad_fn=<NllLossBackward0>)\n",
            "3000 tensor(0.3112, device='cuda:0', grad_fn=<NllLossBackward0>)\n",
            "49th Accuracy of Test Data: 77.6199951171875\n"
          ]
        },
        {
          "output_type": "display_data",
          "data": {
            "text/plain": [
              "<Figure size 432x288 with 1 Axes>"
            ],
            "image/png": "[encoded data removed]"
          },
          "metadata": {
            "needs_background": "light"
          }
        },
        {
          "output_type": "stream",
          "name": "stdout",
          "text": [
            "78.06999969482422\n"
          ]
        },
        {
          "output_type": "stream",
          "name": "stderr",
          "text": [
            "2022/05/20 13:59:28 WARNING mlflow.utils.requirements_utils: Found torch version (1.11.0+cu113) contains a local version label (+cu113). MLflow logged a pip requirement for this package as 'torch==1.11.0' without the local version label to make it installable from PyPI. To specify pip requirements containing local version labels, please use `conda_env` or `pip_requirements`.\n"
          ]
        }
      ]
    },
    {
      "cell_type": "code",
      "source": [
        "!mlflow ui"
      ],
      "metadata": {
        "id": "rYJfg8SFRs8h",
        "colab": {
          "base_uri": "https://localhost:8080/"
        },
        "outputId": "c9088052-d77d-4174-e739-f2f05c1154ca"
      },
      "execution_count": 12,
      "outputs": [
        {
          "output_type": "stream",
          "name": "stdout",
          "text": [
            "[2022-05-20 13:14:16 +0000] [14637] [INFO] Starting gunicorn 20.1.0\n",
            "[2022-05-20 13:14:16 +0000] [14637] [INFO] Listening at: http://127.0.0.1:5000 (14637)\n",
            "[2022-05-20 13:14:16 +0000] [14637] [INFO] Using worker: sync\n",
            "[2022-05-20 13:14:16 +0000] [14640] [INFO] Booting worker with pid: 14640\n",
            "[2022-05-20 13:14:19 +0000] [14637] [INFO] Handling signal: int\n",
            "\n",
            "Aborted!\n",
            "[2022-05-20 13:14:20 +0000] [14640] [INFO] Worker exiting (pid: 14640)\n",
            "[2022-05-20 13:14:20 +0000] [14637] [INFO] Shutting down: Master\n"
          ]
        }
      ]
    },
    {
      "cell_type": "code",
      "source": [
        "net_name = '/content/drive/MyDrive/Colab Notebooks/weights/best_weights6.pkl'\n",
        "model = torch.load(net_name)\n",
        "model.eval()    \n",
        "acc = ComputeAccr(test_loader, model,1)"
      ],
      "metadata": {
        "id": "08cMoQnkRvQt",
        "colab": {
          "base_uri": "https://localhost:8080/"
        },
        "outputId": "3262e5f1-5584-49c8-a7e4-b683ceb3d57e"
      },
      "execution_count": 58,
      "outputs": [
        {
          "output_type": "stream",
          "name": "stderr",
          "text": [
            "/usr/local/lib/python3.7/dist-packages/ipykernel_launcher.py:6: UserWarning: volatile was removed and now has no effect. Use `with torch.no_grad():` instead.\n",
            "  \n",
            "/usr/local/lib/python3.7/dist-packages/torch/nn/functional.py:1320: UserWarning: dropout2d: Received a 2-D input to dropout2d, which is deprecated and will result in an error in a future release. To retain the behavior and silence this warning, please use dropout instead. Note that dropout2d exists to provide channel-wise dropout on inputs with 2 spatial dimensions, a channel dimension, and an optional batch dimension (i.e. 3D or 4D inputs).\n",
            "  warnings.warn(warn_msg)\n"
          ]
        },
        {
          "output_type": "stream",
          "name": "stdout",
          "text": [
            "1th Accuracy of Test Data: 78.06999969482422\n"
          ]
        }
      ]
    },
    {
      "cell_type": "code",
      "source": [
        ".\n",
        ".\n",
        ".\n",
        ".\n",
        ".\n",
        ".\n",
        ".\n",
        ".\n",
        ".\n",
        ".\n",
        ".\n",
        ".\n",
        ".\n",
        ".\n",
        ".\n",
        ".\n",
        ".\n",
        ".\n",
        ".\n",
        ".\n",
        ".\n",
        ".\n",
        ".\n",
        ".\n",
        ".\n",
        ".\n",
        ".\n",
        ".\n",
        ".\n",
        ".\n",
        ".\n",
        ".\n",
        ".\n",
        ".\n",
        ".\n",
        ".\n",
        ".\n",
        ".\n",
        ".\n",
        ".\n",
        ".\n",
        ".\n",
        ".\n",
        "."
      ],
      "metadata": {
        "colab": {
          "base_uri": "https://localhost:8080/",
          "height": 134
        },
        "id": "i6FH57HNxte8",
        "outputId": "d47a737c-8ea0-41ab-967c-b01f46c04814"
      },
      "execution_count": 60,
      "outputs": [
        {
          "output_type": "error",
          "ename": "SyntaxError",
          "evalue": "ignored",
          "traceback": [
            "\u001b[0;36m  File \u001b[0;32m\"<ipython-input-60-335ae6fae3d5>\"\u001b[0;36m, line \u001b[0;32m1\u001b[0m\n\u001b[0;31m    .\u001b[0m\n\u001b[0m    ^\u001b[0m\n\u001b[0;31mSyntaxError\u001b[0m\u001b[0;31m:\u001b[0m invalid syntax\n"
          ]
        }
      ]
    }
  ]
}
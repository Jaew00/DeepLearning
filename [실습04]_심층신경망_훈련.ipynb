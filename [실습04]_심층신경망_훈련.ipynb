{
  "nbformat": 4,
  "nbformat_minor": 0,
  "metadata": {
    "colab": {
      "name": "[실습04] 심층신경망 훈련",
      "provenance": [],
      "collapsed_sections": [],
      "authorship_tag": "ABX9TyOup89udLjbsTHWo17a6FeE",
      "include_colab_link": true
    },
    "kernelspec": {
      "name": "python3",
      "display_name": "Python 3"
    },
    "language_info": {
      "name": "python"
    },
    "accelerator": "GPU",
    "widgets": {
      "application/vnd.jupyter.widget-state+json": {
        "3ff73f73e87442939cc56e2651f48dba": {
          "model_module": "@jupyter-widgets/controls",
          "model_name": "HBoxModel",
          "model_module_version": "1.5.0",
          "state": {
            "_dom_classes": [],
            "_model_module": "@jupyter-widgets/controls",
            "_model_module_version": "1.5.0",
            "_model_name": "HBoxModel",
            "_view_count": null,
            "_view_module": "@jupyter-widgets/controls",
            "_view_module_version": "1.5.0",
            "_view_name": "HBoxView",
            "box_style": "",
            "children": [
              "IPY_MODEL_4b56f15b87944424b75789c07e2c6235",
              "IPY_MODEL_a2a0523bdce7406f80766a46487923cb",
              "IPY_MODEL_b87d8eab95ef41f9a604d50df559546f"
            ],
            "layout": "IPY_MODEL_5118a8b9951948ffa09c797a537fae82"
          }
        },
        "4b56f15b87944424b75789c07e2c6235": {
          "model_module": "@jupyter-widgets/controls",
          "model_name": "HTMLModel",
          "model_module_version": "1.5.0",
          "state": {
            "_dom_classes": [],
            "_model_module": "@jupyter-widgets/controls",
            "_model_module_version": "1.5.0",
            "_model_name": "HTMLModel",
            "_view_count": null,
            "_view_module": "@jupyter-widgets/controls",
            "_view_module_version": "1.5.0",
            "_view_name": "HTMLView",
            "description": "",
            "description_tooltip": null,
            "layout": "IPY_MODEL_3e819b56f685449bbafa86eccdaafb19",
            "placeholder": "​",
            "style": "IPY_MODEL_a0b7b1b56e15467186184fe06d60f538",
            "value": ""
          }
        },
        "a2a0523bdce7406f80766a46487923cb": {
          "model_module": "@jupyter-widgets/controls",
          "model_name": "FloatProgressModel",
          "model_module_version": "1.5.0",
          "state": {
            "_dom_classes": [],
            "_model_module": "@jupyter-widgets/controls",
            "_model_module_version": "1.5.0",
            "_model_name": "FloatProgressModel",
            "_view_count": null,
            "_view_module": "@jupyter-widgets/controls",
            "_view_module_version": "1.5.0",
            "_view_name": "ProgressView",
            "bar_style": "success",
            "description": "",
            "description_tooltip": null,
            "layout": "IPY_MODEL_939d5bd453db43b29fd754c4008eb4a6",
            "max": 170498071,
            "min": 0,
            "orientation": "horizontal",
            "style": "IPY_MODEL_fa0643f8f0194cbc98a868433487a198",
            "value": 170498071
          }
        },
        "b87d8eab95ef41f9a604d50df559546f": {
          "model_module": "@jupyter-widgets/controls",
          "model_name": "HTMLModel",
          "model_module_version": "1.5.0",
          "state": {
            "_dom_classes": [],
            "_model_module": "@jupyter-widgets/controls",
            "_model_module_version": "1.5.0",
            "_model_name": "HTMLModel",
            "_view_count": null,
            "_view_module": "@jupyter-widgets/controls",
            "_view_module_version": "1.5.0",
            "_view_name": "HTMLView",
            "description": "",
            "description_tooltip": null,
            "layout": "IPY_MODEL_00952e4aed2a4098b736472f44ccb05d",
            "placeholder": "​",
            "style": "IPY_MODEL_c2fedc8c7ca842c487d7975aa2ef4744",
            "value": " 170499072/? [00:01&lt;00:00, 101025637.70it/s]"
          }
        },
        "5118a8b9951948ffa09c797a537fae82": {
          "model_module": "@jupyter-widgets/base",
          "model_name": "LayoutModel",
          "model_module_version": "1.2.0",
          "state": {
            "_model_module": "@jupyter-widgets/base",
            "_model_module_version": "1.2.0",
            "_model_name": "LayoutModel",
            "_view_count": null,
            "_view_module": "@jupyter-widgets/base",
            "_view_module_version": "1.2.0",
            "_view_name": "LayoutView",
            "align_content": null,
            "align_items": null,
            "align_self": null,
            "border": null,
            "bottom": null,
            "display": null,
            "flex": null,
            "flex_flow": null,
            "grid_area": null,
            "grid_auto_columns": null,
            "grid_auto_flow": null,
            "grid_auto_rows": null,
            "grid_column": null,
            "grid_gap": null,
            "grid_row": null,
            "grid_template_areas": null,
            "grid_template_columns": null,
            "grid_template_rows": null,
            "height": null,
            "justify_content": null,
            "justify_items": null,
            "left": null,
            "margin": null,
            "max_height": null,
            "max_width": null,
            "min_height": null,
            "min_width": null,
            "object_fit": null,
            "object_position": null,
            "order": null,
            "overflow": null,
            "overflow_x": null,
            "overflow_y": null,
            "padding": null,
            "right": null,
            "top": null,
            "visibility": null,
            "width": null
          }
        },
        "3e819b56f685449bbafa86eccdaafb19": {
          "model_module": "@jupyter-widgets/base",
          "model_name": "LayoutModel",
          "model_module_version": "1.2.0",
          "state": {
            "_model_module": "@jupyter-widgets/base",
            "_model_module_version": "1.2.0",
            "_model_name": "LayoutModel",
            "_view_count": null,
            "_view_module": "@jupyter-widgets/base",
            "_view_module_version": "1.2.0",
            "_view_name": "LayoutView",
            "align_content": null,
            "align_items": null,
            "align_self": null,
            "border": null,
            "bottom": null,
            "display": null,
            "flex": null,
            "flex_flow": null,
            "grid_area": null,
            "grid_auto_columns": null,
            "grid_auto_flow": null,
            "grid_auto_rows": null,
            "grid_column": null,
            "grid_gap": null,
            "grid_row": null,
            "grid_template_areas": null,
            "grid_template_columns": null,
            "grid_template_rows": null,
            "height": null,
            "justify_content": null,
            "justify_items": null,
            "left": null,
            "margin": null,
            "max_height": null,
            "max_width": null,
            "min_height": null,
            "min_width": null,
            "object_fit": null,
            "object_position": null,
            "order": null,
            "overflow": null,
            "overflow_x": null,
            "overflow_y": null,
            "padding": null,
            "right": null,
            "top": null,
            "visibility": null,
            "width": null
          }
        },
        "a0b7b1b56e15467186184fe06d60f538": {
          "model_module": "@jupyter-widgets/controls",
          "model_name": "DescriptionStyleModel",
          "model_module_version": "1.5.0",
          "state": {
            "_model_module": "@jupyter-widgets/controls",
            "_model_module_version": "1.5.0",
            "_model_name": "DescriptionStyleModel",
            "_view_count": null,
            "_view_module": "@jupyter-widgets/base",
            "_view_module_version": "1.2.0",
            "_view_name": "StyleView",
            "description_width": ""
          }
        },
        "939d5bd453db43b29fd754c4008eb4a6": {
          "model_module": "@jupyter-widgets/base",
          "model_name": "LayoutModel",
          "model_module_version": "1.2.0",
          "state": {
            "_model_module": "@jupyter-widgets/base",
            "_model_module_version": "1.2.0",
            "_model_name": "LayoutModel",
            "_view_count": null,
            "_view_module": "@jupyter-widgets/base",
            "_view_module_version": "1.2.0",
            "_view_name": "LayoutView",
            "align_content": null,
            "align_items": null,
            "align_self": null,
            "border": null,
            "bottom": null,
            "display": null,
            "flex": null,
            "flex_flow": null,
            "grid_area": null,
            "grid_auto_columns": null,
            "grid_auto_flow": null,
            "grid_auto_rows": null,
            "grid_column": null,
            "grid_gap": null,
            "grid_row": null,
            "grid_template_areas": null,
            "grid_template_columns": null,
            "grid_template_rows": null,
            "height": null,
            "justify_content": null,
            "justify_items": null,
            "left": null,
            "margin": null,
            "max_height": null,
            "max_width": null,
            "min_height": null,
            "min_width": null,
            "object_fit": null,
            "object_position": null,
            "order": null,
            "overflow": null,
            "overflow_x": null,
            "overflow_y": null,
            "padding": null,
            "right": null,
            "top": null,
            "visibility": null,
            "width": null
          }
        },
        "fa0643f8f0194cbc98a868433487a198": {
          "model_module": "@jupyter-widgets/controls",
          "model_name": "ProgressStyleModel",
          "model_module_version": "1.5.0",
          "state": {
            "_model_module": "@jupyter-widgets/controls",
            "_model_module_version": "1.5.0",
            "_model_name": "ProgressStyleModel",
            "_view_count": null,
            "_view_module": "@jupyter-widgets/base",
            "_view_module_version": "1.2.0",
            "_view_name": "StyleView",
            "bar_color": null,
            "description_width": ""
          }
        },
        "00952e4aed2a4098b736472f44ccb05d": {
          "model_module": "@jupyter-widgets/base",
          "model_name": "LayoutModel",
          "model_module_version": "1.2.0",
          "state": {
            "_model_module": "@jupyter-widgets/base",
            "_model_module_version": "1.2.0",
            "_model_name": "LayoutModel",
            "_view_count": null,
            "_view_module": "@jupyter-widgets/base",
            "_view_module_version": "1.2.0",
            "_view_name": "LayoutView",
            "align_content": null,
            "align_items": null,
            "align_self": null,
            "border": null,
            "bottom": null,
            "display": null,
            "flex": null,
            "flex_flow": null,
            "grid_area": null,
            "grid_auto_columns": null,
            "grid_auto_flow": null,
            "grid_auto_rows": null,
            "grid_column": null,
            "grid_gap": null,
            "grid_row": null,
            "grid_template_areas": null,
            "grid_template_columns": null,
            "grid_template_rows": null,
            "height": null,
            "justify_content": null,
            "justify_items": null,
            "left": null,
            "margin": null,
            "max_height": null,
            "max_width": null,
            "min_height": null,
            "min_width": null,
            "object_fit": null,
            "object_position": null,
            "order": null,
            "overflow": null,
            "overflow_x": null,
            "overflow_y": null,
            "padding": null,
            "right": null,
            "top": null,
            "visibility": null,
            "width": null
          }
        },
        "c2fedc8c7ca842c487d7975aa2ef4744": {
          "model_module": "@jupyter-widgets/controls",
          "model_name": "DescriptionStyleModel",
          "model_module_version": "1.5.0",
          "state": {
            "_model_module": "@jupyter-widgets/controls",
            "_model_module_version": "1.5.0",
            "_model_name": "DescriptionStyleModel",
            "_view_count": null,
            "_view_module": "@jupyter-widgets/base",
            "_view_module_version": "1.2.0",
            "_view_name": "StyleView",
            "description_width": ""
          }
        }
      }
    }
  },
  "cells": [
    {
      "cell_type": "markdown",
      "metadata": {
        "id": "view-in-github",
        "colab_type": "text"
      },
      "source": [
        "<a href=\"https://colab.research.google.com/github/Jaew00/DeepLearning/blob/main/%5B%EC%8B%A4%EC%8A%B504%5D_%EC%8B%AC%EC%B8%B5%EC%8B%A0%EA%B2%BD%EB%A7%9D_%ED%9B%88%EB%A0%A8.ipynb\" target=\"_parent\"><img src=\"https://colab.research.google.com/assets/colab-badge.svg\" alt=\"Open In Colab\"/></a>"
      ]
    },
    {
      "cell_type": "markdown",
      "source": [
        "## CIFAR10 을 CNN으로 학습하기. 여러 학습방법으로 비교"
      ],
      "metadata": {
        "id": "6TxC4ntooOnI"
      }
    },
    {
      "cell_type": "code",
      "execution_count": 11,
      "metadata": {
        "id": "AOcOpl6Imp9O"
      },
      "outputs": [],
      "source": [
        "import numpy as np\n",
        "import torch\n",
        "import torch.nn as nn\n",
        "import torch.optim as optim\n",
        "import torch.nn.init as init\n",
        "import torchvision.datasets as dset\n",
        "import torchvision.transforms as transforms\n",
        "from torch.utils.data import DataLoader\n",
        "from torch.autograd import Variable\n",
        "import matplotlib.pyplot as plt\n",
        "\n",
        "from torch.optim import lr_scheduler\n",
        "\n",
        "batch_size = 16\n",
        "learning_rate = 0.002\n",
        "num_epoch = 1"
      ]
    },
    {
      "cell_type": "markdown",
      "source": [
        "## 1. CIFAR10 train, test dataset 가져오기"
      ],
      "metadata": {
        "id": "R8smL02qoKEb"
      }
    },
    {
      "cell_type": "code",
      "source": [
        "cifar_train=dset.CIFAR10('CIFAR10/', train=True, transform=transforms.ToTensor(), target_transform=None, download=True)\n",
        "cifar_test=dset.CIFAR10('CIFAR10/', train=False, transform=transforms.ToTensor(), target_transform=None, download=True)\n"
      ],
      "metadata": {
        "colab": {
          "base_uri": "https://localhost:8080/",
          "height": 103,
          "referenced_widgets": [
            "3ff73f73e87442939cc56e2651f48dba",
            "4b56f15b87944424b75789c07e2c6235",
            "a2a0523bdce7406f80766a46487923cb",
            "b87d8eab95ef41f9a604d50df559546f",
            "5118a8b9951948ffa09c797a537fae82",
            "3e819b56f685449bbafa86eccdaafb19",
            "a0b7b1b56e15467186184fe06d60f538",
            "939d5bd453db43b29fd754c4008eb4a6",
            "fa0643f8f0194cbc98a868433487a198",
            "00952e4aed2a4098b736472f44ccb05d",
            "c2fedc8c7ca842c487d7975aa2ef4744"
          ]
        },
        "id": "9Rhc4hNCntfq",
        "outputId": "524acdf8-c303-415f-a339-358ddcd1e82b"
      },
      "execution_count": 3,
      "outputs": [
        {
          "output_type": "stream",
          "name": "stdout",
          "text": [
            "Downloading https://www.cs.toronto.edu/~kriz/cifar-10-python.tar.gz to CIFAR10/cifar-10-python.tar.gz\n"
          ]
        },
        {
          "output_type": "display_data",
          "data": {
            "text/plain": [
              "  0%|          | 0/170498071 [00:00<?, ?it/s]"
            ],
            "application/vnd.jupyter.widget-view+json": {
              "version_major": 2,
              "version_minor": 0,
              "model_id": "3ff73f73e87442939cc56e2651f48dba"
            }
          },
          "metadata": {}
        },
        {
          "output_type": "stream",
          "name": "stdout",
          "text": [
            "Extracting CIFAR10/cifar-10-python.tar.gz to CIFAR10/\n",
            "Files already downloaded and verified\n"
          ]
        }
      ]
    },
    {
      "cell_type": "markdown",
      "source": [
        "## 2. 대략적인 데이터 형태"
      ],
      "metadata": {
        "id": "jXofdXnhoZDy"
      }
    },
    {
      "cell_type": "code",
      "source": [
        "print('cfar_train 길이:', len(cifar_train))\n",
        "print('cfar_test 길이:', len(cifar_test))\n",
        "\n",
        "# 데이터 하나 형태\n",
        "image, label = cifar_train.__getitem__(1) # 1번째 데이터\n",
        "print(\"image data 형태:\", image.size())\n",
        "print(\"label:\", label)\n",
        "\n",
        "# 그리기\n",
        "img = image.numpy() # image 타입을 numpy로 변환(3, 32, 32)\n",
        "\n",
        "# (3, 32, 32) -> (32, 32, 3)\n",
        "r, g, b = img[0,:,:], img[1,:,:], img[2,:,:]\n",
        "# img = img.reshape(img.shape[1], img.shape[2], img.shape[0])\n",
        "img2 = np.zeros((img.shape[1], img.shape[2], img.shape[0]))\n",
        "img2[:,:,0], img2[:,:,1], img2[:,:,2] = r, g, b\n",
        "\n",
        "plt.title(\"label: %d\" %label)\n",
        "plt.imshow(img2, interpolation='bicubic')\n",
        "plt.show()"
      ],
      "metadata": {
        "colab": {
          "base_uri": "https://localhost:8080/",
          "height": 352
        },
        "id": "oVoKUdtSoHzo",
        "outputId": "8a4db81e-d3ac-4cf2-b5bb-ade6f078912b"
      },
      "execution_count": null,
      "outputs": [
        {
          "output_type": "stream",
          "name": "stdout",
          "text": [
            "cfar_train 길이: 50000\n",
            "cfar_test 길이: 10000\n",
            "image data 형태: torch.Size([3, 32, 32])\n",
            "label: 9\n"
          ]
        },
        {
          "output_type": "display_data",
          "data": {
            "text/plain": [
              "<Figure size 432x288 with 1 Axes>"
            ],
            "image/png": "[encoded data removed]"
          },
          "metadata": {
            "needs_background": "light"
          }
        }
      ]
    },
    {
      "cell_type": "code",
      "source": [
        "def ComputeAccr(dloader, imodel):\n",
        "  correct = 0\n",
        "  total = 0\n",
        "\n",
        "  for j, [imgs, labels] in enumerate(dloader) : # batch_size 만큼\n",
        "    img = Variable(imgs, volatile = True).cuda() # x\n",
        "    #label = Variable(labels) # y\n",
        "    label = Variable(labels).cuda()\n",
        "\n",
        "    output = imodel.forward(img)\n",
        "    _, output_index = torch.max(output, 1)\n",
        "\n",
        "    total += label.size(0)\n",
        "    correct += (output_index == label).sum().float()\n",
        "\n",
        "  print(\"Accuracy of Test Data: {}\".format(100*correct/total))"
      ],
      "metadata": {
        "id": "RRDLNJUHprhg"
      },
      "execution_count": 4,
      "outputs": []
    },
    {
      "cell_type": "markdown",
      "source": [
        "## 3. 데이터 로드 함수"
      ],
      "metadata": {
        "id": "KGhFqmUyqu-0"
      }
    },
    {
      "cell_type": "code",
      "source": [
        "train_loader = torch.utils.data.DataLoader(list(cifar_train)[:], batch_size = batch_size, shuffle = True,\n",
        "                                           num_workers=2, drop_last = True)\n",
        "test_loader = torch.utils.data.DataLoader(cifar_test, batch_size = batch_size, shuffle = False,\n",
        "                                           num_workers=2, drop_last = True)"
      ],
      "metadata": {
        "id": "dWBaqIcNqnrA"
      },
      "execution_count": null,
      "outputs": []
    },
    {
      "cell_type": "markdown",
      "source": [
        "## 4. 모델 선언"
      ],
      "metadata": {
        "id": "ymCxalPmrWS8"
      }
    },
    {
      "cell_type": "code",
      "source": [
        "from torch.nn.modules.pooling import MaxPool2d\n",
        "from torch.nn.modules.conv import Conv2d\n",
        "class CNN(nn.Module) :\n",
        "  def __init__(self) :\n",
        "    super(CNN, self).__init__()\n",
        "    self.layer = nn.Sequential(\n",
        "        nn.Conv2d(3, 16, 3, padding=1),\n",
        "        nn.ReLU(),\n",
        "        #nn.Dropout2d(0, 2), #(2) drop out\n",
        "        #nn.BatchNorm2d(16), #(6) Batch normalization\n",
        "        nn.Conv2d(16, 32, 3, padding=1),\n",
        "        nn.ReLU(),\n",
        "        #nn.Dropout2d(0, 2),\n",
        "        #nn.BatchNorm2d(32),\n",
        "        nn.MaxPool2d(2, 2),\n",
        "        nn.Conv2d(32, 64, 3, padding=1),\n",
        "        nn.ReLU(),\n",
        "        #nn.Dropout2d(0,2),\n",
        "        #nn.BatchNorm2d(64),\n",
        "        nn.MaxPool2d(2, 2)\n",
        "    )\n",
        "    self.fc_layer=nn.Sequential(\n",
        "        nn.Linear(64*8*8, 100),\n",
        "        nn.ReLU(),\n",
        "        #nn.Dropout2d(0, 2),\n",
        "        #nn.BatchNorm2d(100),\n",
        "        nn.Linear(100, 10)\n",
        "    )\n",
        "\n",
        "  def forward(self, x):\n",
        "    out = self.layer(x)\n",
        "    out = out.view(batch_size, -1)\n",
        "    out = self.fc_layer(out)\n",
        "\n",
        "    return out\n",
        "\n",
        "model = CNN().cuda()"
      ],
      "metadata": {
        "id": "m4sX1OSqqr8P"
      },
      "execution_count": null,
      "outputs": []
    },
    {
      "cell_type": "markdown",
      "source": [
        "## 5. loss, optimizer"
      ],
      "metadata": {
        "id": "E1Au0a3ttB7b"
      }
    },
    {
      "cell_type": "code",
      "source": [
        "loss_func=nn.CrossEntropyLoss()\n",
        "optimizer=torch.optim.SGD(model.parameters(), lr=learning_rate)"
      ],
      "metadata": {
        "id": "mQ5BmlBYqr5n"
      },
      "execution_count": null,
      "outputs": []
    },
    {
      "cell_type": "markdown",
      "source": [
        "## 6. 학습"
      ],
      "metadata": {
        "id": "vJ-YJ-pZxZ-N"
      }
    },
    {
      "cell_type": "code",
      "source": [
        "for i in range(num_epoch):\n",
        "  for j, [image, label] in enumerate(train_loader):\n",
        "    x=Variable(image).cuda()\n",
        "    y_=Variable(label).cuda()\n",
        "\n",
        "    optimizer.zero_grad()\n",
        "    output=model.forward(x)\n",
        "    loss=loss_func(output,y_)\n",
        "    loss.backward()\n",
        "    optimizer.step()\n",
        "\n",
        "    if j%1000==0:\n",
        "      print(j, loss)"
      ],
      "metadata": {
        "colab": {
          "base_uri": "https://localhost:8080/"
        },
        "id": "T-oMuaXlqrxB",
        "outputId": "5a4ccb36-379d-4cef-dfa7-baa5e760f9de"
      },
      "execution_count": null,
      "outputs": [
        {
          "output_type": "stream",
          "name": "stdout",
          "text": [
            "0 tensor(2.2860, device='cuda:0', grad_fn=<NllLossBackward0>)\n",
            "1000 tensor(2.3014, device='cuda:0', grad_fn=<NllLossBackward0>)\n",
            "2000 tensor(2.3232, device='cuda:0', grad_fn=<NllLossBackward0>)\n",
            "3000 tensor(2.3021, device='cuda:0', grad_fn=<NllLossBackward0>)\n"
          ]
        }
      ]
    },
    {
      "cell_type": "markdown",
      "source": [
        "## (0) Naive Test"
      ],
      "metadata": {
        "id": "PijB2UoRyBVS"
      }
    },
    {
      "cell_type": "code",
      "source": [
        "ComputeAccr(test_loader, model)"
      ],
      "metadata": {
        "colab": {
          "base_uri": "https://localhost:8080/"
        },
        "id": "3dL_MJ66x6SH",
        "outputId": "324a3610-53c1-4006-f472-b525f467728b"
      },
      "execution_count": null,
      "outputs": [
        {
          "output_type": "stream",
          "name": "stderr",
          "text": [
            "/usr/local/lib/python3.7/dist-packages/ipykernel_launcher.py:6: UserWarning: volatile was removed and now has no effect. Use `with torch.no_grad():` instead.\n",
            "  \n"
          ]
        },
        {
          "output_type": "stream",
          "name": "stdout",
          "text": [
            "Accuracy of Test Data: 14.029999732971191\n"
          ]
        }
      ]
    },
    {
      "cell_type": "markdown",
      "source": [
        "## (1) DropOut "
      ],
      "metadata": {
        "id": "uqubFg9vyk0K"
      }
    },
    {
      "cell_type": "code",
      "source": [
        "from torch.nn.modules.pooling import MaxPool2d\n",
        "from torch.nn.modules.conv import Conv2d\n",
        "class CNN(nn.Module) :\n",
        "  def __init__(self) :\n",
        "    super(CNN, self).__init__()\n",
        "    self.layer = nn.Sequential(\n",
        "        nn.Conv2d(3, 16, 3, padding=1),\n",
        "        nn.ReLU(),\n",
        "        nn.Dropout2d(0.2), #(2) drop out\n",
        "        #nn.BatchNorm2d(16), #(6) Batch normalization\n",
        "        nn.Conv2d(16, 32, 3, padding=1),\n",
        "        nn.ReLU(),\n",
        "        nn.Dropout2d(0.2),\n",
        "        #nn.BatchNorm2d(32),\n",
        "        nn.MaxPool2d(2, 2),\n",
        "        nn.Conv2d(32, 64, 3, padding=1),\n",
        "        nn.ReLU(),\n",
        "        nn.Dropout2d(0.2),\n",
        "        #nn.BatchNorm2d(64),\n",
        "        nn.MaxPool2d(2, 2)\n",
        "    )\n",
        "    self.fc_layer=nn.Sequential(\n",
        "        nn.Linear(64*8*8, 100),\n",
        "        nn.ReLU(),\n",
        "        nn.Dropout2d(0.2),\n",
        "        #nn.BatchNorm2d(100),\n",
        "        nn.Linear(100, 10)\n",
        "    )\n",
        "\n",
        "  def forward(self, x):\n",
        "    out = self.layer(x)\n",
        "    out = out.view(batch_size, -1)\n",
        "    out = self.fc_layer(out)\n",
        "\n",
        "    return out\n",
        "\n",
        "model = CNN().cuda()"
      ],
      "metadata": {
        "id": "kFhZrKbeyF4t"
      },
      "execution_count": null,
      "outputs": []
    },
    {
      "cell_type": "code",
      "source": [
        "for i in range(num_epoch):\n",
        "  for j, [image, label] in enumerate(train_loader):\n",
        "    x=Variable(image).cuda()\n",
        "    y_=Variable(label).cuda()\n",
        "\n",
        "    optimizer.zero_grad()\n",
        "    output=model.forward(x)\n",
        "    loss=loss_func(output,y_)\n",
        "    loss.backward()\n",
        "    optimizer.step()\n",
        "\n",
        "    if j%1000==0:\n",
        "      print(j, loss)"
      ],
      "metadata": {
        "colab": {
          "base_uri": "https://localhost:8080/"
        },
        "id": "6wjfRY_3yurn",
        "outputId": "6b8ec7fb-b0bb-4abf-da9b-4db9d5a4cf4f"
      },
      "execution_count": null,
      "outputs": [
        {
          "output_type": "stream",
          "name": "stderr",
          "text": [
            "/usr/local/lib/python3.7/dist-packages/torch/nn/functional.py:1320: UserWarning: dropout2d: Received a 2-D input to dropout2d, which is deprecated and will result in an error in a future release. To retain the behavior and silence this warning, please use dropout instead. Note that dropout2d exists to provide channel-wise dropout on inputs with 2 spatial dimensions, a channel dimension, and an optional batch dimension (i.e. 3D or 4D inputs).\n",
            "  warnings.warn(warn_msg)\n"
          ]
        },
        {
          "output_type": "stream",
          "name": "stdout",
          "text": [
            "0 tensor(2.3054, device='cuda:0', grad_fn=<NllLossBackward0>)\n",
            "1000 tensor(2.2920, device='cuda:0', grad_fn=<NllLossBackward0>)\n",
            "2000 tensor(2.2868, device='cuda:0', grad_fn=<NllLossBackward0>)\n",
            "3000 tensor(2.2911, device='cuda:0', grad_fn=<NllLossBackward0>)\n"
          ]
        }
      ]
    },
    {
      "cell_type": "code",
      "source": [
        "ComputeAccr(test_loader, model)"
      ],
      "metadata": {
        "colab": {
          "base_uri": "https://localhost:8080/"
        },
        "id": "QN8fknhJyzIs",
        "outputId": "ada16e07-3867-44a7-eee9-332f94ac1c14"
      },
      "execution_count": null,
      "outputs": [
        {
          "output_type": "stream",
          "name": "stderr",
          "text": [
            "/usr/local/lib/python3.7/dist-packages/ipykernel_launcher.py:6: UserWarning: volatile was removed and now has no effect. Use `with torch.no_grad():` instead.\n",
            "  \n",
            "/usr/local/lib/python3.7/dist-packages/torch/nn/functional.py:1320: UserWarning: dropout2d: Received a 2-D input to dropout2d, which is deprecated and will result in an error in a future release. To retain the behavior and silence this warning, please use dropout instead. Note that dropout2d exists to provide channel-wise dropout on inputs with 2 spatial dimensions, a channel dimension, and an optional batch dimension (i.e. 3D or 4D inputs).\n",
            "  warnings.warn(warn_msg)\n"
          ]
        },
        {
          "output_type": "stream",
          "name": "stdout",
          "text": [
            "Accuracy of Test Data: 10.579999923706055\n"
          ]
        }
      ]
    },
    {
      "cell_type": "markdown",
      "source": [
        "## (2) Data Augmentation"
      ],
      "metadata": {
        "id": "QtqRilkizgr3"
      }
    },
    {
      "cell_type": "code",
      "source": [
        "cifar_train=dset.CIFAR10('CIFAR10/', train=True,\n",
        "                         transform=transforms.Compose([\n",
        "                          transforms.Resize(36),\n",
        "                          transforms.CenterCrop(32),\n",
        "                          transforms.RandomHorizontalFlip(),\n",
        "                          transforms.Lambda(lambda x : x.rotate(90)),\n",
        "                          transforms.ToTensor()\n",
        "                         ]))\n",
        "cifar_test=dset.CIFAR10('CIFAR10/', train=False, transform=transforms.ToTensor(), target_transform=None, download=True)\n"
      ],
      "metadata": {
        "colab": {
          "base_uri": "https://localhost:8080/"
        },
        "id": "pdRUtItjzYap",
        "outputId": "99e1e53e-f6f2-4d2a-fa8b-e81553a5746e"
      },
      "execution_count": null,
      "outputs": [
        {
          "output_type": "stream",
          "name": "stdout",
          "text": [
            "Files already downloaded and verified\n"
          ]
        }
      ]
    },
    {
      "cell_type": "code",
      "source": [
        "print('cfar_train 길이:', len(cifar_train))\n",
        "print('cfar_test 길이:', len(cifar_test))\n",
        "\n",
        "# 데이터 하나 형태\n",
        "image, label = cifar_train.__getitem__(1) # 1번째 데이터\n",
        "print(\"image data 형태:\", image.size())\n",
        "print(\"label:\", label)\n",
        "\n",
        "# 그리기\n",
        "img = image.numpy() # image 타입을 numpy로 변환(3, 32, 32)\n",
        "\n",
        "# (3, 32, 32) -> (32, 32, 3)\n",
        "r, g, b = img[0,:,:], img[1,:,:], img[2,:,:]\n",
        "# img = img.reshape(img.shape[1], img.shape[2], img.shape[0])\n",
        "img2 = np.zeros((img.shape[1], img.shape[2], img.shape[0]))\n",
        "img2[:,:,0], img2[:,:,1], img2[:,:,2] = r, g, b\n",
        "\n",
        "plt.title(\"label: %d\" %label)\n",
        "plt.imshow(img2, interpolation='bicubic')\n",
        "plt.show()"
      ],
      "metadata": {
        "colab": {
          "base_uri": "https://localhost:8080/",
          "height": 352
        },
        "id": "DRYrQYt61OOf",
        "outputId": "72a8a46d-5c3f-4dc7-c7fb-387e6025ff95"
      },
      "execution_count": null,
      "outputs": [
        {
          "output_type": "stream",
          "name": "stdout",
          "text": [
            "cfar_train 길이: 50000\n",
            "cfar_test 길이: 10000\n",
            "image data 형태: torch.Size([3, 32, 32])\n",
            "label: 9\n"
          ]
        },
        {
          "output_type": "display_data",
          "data": {
            "text/plain": [
              "<Figure size 432x288 with 1 Axes>"
            ],
            "image/png": "[encoded data removed]"
          },
          "metadata": {
            "needs_background": "light"
          }
        }
      ]
    },
    {
      "cell_type": "code",
      "source": [
        "train_loader = torch.utils.data.DataLoader(list(cifar_train)[:], batch_size = batch_size, shuffle = True,\n",
        "                                           num_workers=2, drop_last = True)\n",
        "test_loader = torch.utils.data.DataLoader(cifar_test, batch_size = batch_size, shuffle = False,\n",
        "                                           num_workers=2, drop_last = True)"
      ],
      "metadata": {
        "id": "pJZYVpls2Scr"
      },
      "execution_count": null,
      "outputs": []
    },
    {
      "cell_type": "code",
      "source": [
        "from torch.nn.modules.pooling import MaxPool2d\n",
        "from torch.nn.modules.conv import Conv2d\n",
        "class CNN(nn.Module) :\n",
        "  def __init__(self) :\n",
        "    super(CNN, self).__init__()\n",
        "    self.layer = nn.Sequential(\n",
        "        nn.Conv2d(3, 16, 3, padding=1),\n",
        "        nn.ReLU(),\n",
        "        #nn.Dropout2d(0, 2), #(2) drop out\n",
        "        #nn.BatchNorm2d(16), #(6) Batch normalization\n",
        "        nn.Conv2d(16, 32, 3, padding=1),\n",
        "        nn.ReLU(),\n",
        "        #nn.Dropout2d(0, 2),\n",
        "        #nn.BatchNorm2d(32),\n",
        "        nn.MaxPool2d(2, 2),\n",
        "        nn.Conv2d(32, 64, 3, padding=1),\n",
        "        nn.ReLU(),\n",
        "        #nn.Dropout2d(0,2),\n",
        "        #nn.BatchNorm2d(64),\n",
        "        nn.MaxPool2d(2, 2)\n",
        "    )\n",
        "    self.fc_layer=nn.Sequential(\n",
        "        nn.Linear(64*8*8, 100),\n",
        "        nn.ReLU(),\n",
        "        #nn.Dropout2d(0, 2),\n",
        "        #nn.BatchNorm2d(100),\n",
        "        nn.Linear(100, 10)\n",
        "    )\n",
        "\n",
        "  def forward(self, x):\n",
        "    out = self.layer(x)\n",
        "    out = out.view(batch_size, -1)\n",
        "    out = self.fc_layer(out)\n",
        "\n",
        "    return out\n",
        "\n",
        "model = CNN().cuda()"
      ],
      "metadata": {
        "id": "f6luUrjY2XY3"
      },
      "execution_count": null,
      "outputs": []
    },
    {
      "cell_type": "code",
      "source": [
        "for i in range(num_epoch):\n",
        "  for j, [image, label] in enumerate(train_loader):\n",
        "    x=Variable(image).cuda()\n",
        "    y_=Variable(label).cuda()\n",
        "\n",
        "    optimizer.zero_grad()\n",
        "    output=model.forward(x)\n",
        "    loss=loss_func(output,y_)\n",
        "    loss.backward()\n",
        "    optimizer.step()\n",
        "\n",
        "    if j%1000==0:\n",
        "      print(j, loss)"
      ],
      "metadata": {
        "colab": {
          "base_uri": "https://localhost:8080/"
        },
        "id": "gDeXtxps2d_Z",
        "outputId": "523235a9-11cf-4647-9c5f-315a5cbaf74b"
      },
      "execution_count": null,
      "outputs": [
        {
          "output_type": "stream",
          "name": "stderr",
          "text": [
            "/usr/local/lib/python3.7/dist-packages/torch/nn/functional.py:1320: UserWarning: dropout2d: Received a 2-D input to dropout2d, which is deprecated and will result in an error in a future release. To retain the behavior and silence this warning, please use dropout instead. Note that dropout2d exists to provide channel-wise dropout on inputs with 2 spatial dimensions, a channel dimension, and an optional batch dimension (i.e. 3D or 4D inputs).\n",
            "  warnings.warn(warn_msg)\n"
          ]
        },
        {
          "output_type": "stream",
          "name": "stdout",
          "text": [
            "0 tensor(2.3090, device='cuda:0', grad_fn=<NllLossBackward0>)\n",
            "1000 tensor(2.3236, device='cuda:0', grad_fn=<NllLossBackward0>)\n",
            "2000 tensor(2.3205, device='cuda:0', grad_fn=<NllLossBackward0>)\n",
            "3000 tensor(2.3055, device='cuda:0', grad_fn=<NllLossBackward0>)\n"
          ]
        }
      ]
    },
    {
      "cell_type": "code",
      "source": [
        "ComputeAccr(test_loader, model)"
      ],
      "metadata": {
        "colab": {
          "base_uri": "https://localhost:8080/"
        },
        "id": "NPYwb8T-2jYZ",
        "outputId": "b2838f1c-46d5-4b7d-e894-66c423c75011"
      },
      "execution_count": null,
      "outputs": [
        {
          "output_type": "stream",
          "name": "stderr",
          "text": [
            "/usr/local/lib/python3.7/dist-packages/ipykernel_launcher.py:6: UserWarning: volatile was removed and now has no effect. Use `with torch.no_grad():` instead.\n",
            "  \n",
            "/usr/local/lib/python3.7/dist-packages/torch/nn/functional.py:1320: UserWarning: dropout2d: Received a 2-D input to dropout2d, which is deprecated and will result in an error in a future release. To retain the behavior and silence this warning, please use dropout instead. Note that dropout2d exists to provide channel-wise dropout on inputs with 2 spatial dimensions, a channel dimension, and an optional batch dimension (i.e. 3D or 4D inputs).\n",
            "  warnings.warn(warn_msg)\n"
          ]
        },
        {
          "output_type": "stream",
          "name": "stdout",
          "text": [
            "Accuracy of Test Data: 10.429999351501465\n"
          ]
        }
      ]
    },
    {
      "cell_type": "markdown",
      "source": [
        "## (3) Wieght Initialization"
      ],
      "metadata": {
        "id": "-GoHz9VG2mJy"
      }
    },
    {
      "cell_type": "code",
      "source": [
        "cifar_train=dset.CIFAR10('CIFAR10/', train=True, transform=transforms.ToTensor(), target_transform=None, download=True)\n",
        "cifar_test=dset.CIFAR10('CIFAR10/', train=False, transform=transforms.ToTensor(), target_transform=None, download=True)\n"
      ],
      "metadata": {
        "colab": {
          "base_uri": "https://localhost:8080/"
        },
        "id": "Cbzd5Yc63N4N",
        "outputId": "cb7dcfd6-a4a6-4ae9-c83a-314ac5c14023"
      },
      "execution_count": null,
      "outputs": [
        {
          "output_type": "stream",
          "name": "stdout",
          "text": [
            "Files already downloaded and verified\n",
            "Files already downloaded and verified\n"
          ]
        }
      ]
    },
    {
      "cell_type": "code",
      "source": [
        "print('cfar_train 길이:', len(cifar_train))\n",
        "print('cfar_test 길이:', len(cifar_test))\n",
        "\n",
        "# 데이터 하나 형태\n",
        "image, label = cifar_train.__getitem__(1) # 1번째 데이터\n",
        "print(\"image data 형태:\", image.size())\n",
        "print(\"label:\", label)\n",
        "\n",
        "# 그리기\n",
        "img = image.numpy() # image 타입을 numpy로 변환(3, 32, 32)\n",
        "\n",
        "# (3, 32, 32) -> (32, 32, 3)\n",
        "r, g, b = img[0,:,:], img[1,:,:], img[2,:,:]\n",
        "# img = img.reshape(img.shape[1], img.shape[2], img.shape[0])\n",
        "img2 = np.zeros((img.shape[1], img.shape[2], img.shape[0]))\n",
        "img2[:,:,0], img2[:,:,1], img2[:,:,2] = r, g, b\n",
        "\n",
        "plt.title(\"label: %d\" %label)\n",
        "plt.imshow(img2, interpolation='bicubic')\n",
        "plt.show()"
      ],
      "metadata": {
        "colab": {
          "base_uri": "https://localhost:8080/",
          "height": 352
        },
        "id": "P2ClJYiF3WIi",
        "outputId": "b740dd45-acab-46f7-a3ec-7bf7106b1f10"
      },
      "execution_count": null,
      "outputs": [
        {
          "output_type": "stream",
          "name": "stdout",
          "text": [
            "cfar_train 길이: 50000\n",
            "cfar_test 길이: 10000\n",
            "image data 형태: torch.Size([3, 32, 32])\n",
            "label: 9\n"
          ]
        },
        {
          "output_type": "display_data",
          "data": {
            "text/plain": [
              "<Figure size 432x288 with 1 Axes>"
            ],
            "image/png": "[encoded data removed]"
          },
          "metadata": {
            "needs_background": "light"
          }
        }
      ]
    },
    {
      "cell_type": "code",
      "source": [
        "train_loader = torch.utils.data.DataLoader(list(cifar_train)[:], batch_size = batch_size, shuffle = True,\n",
        "                                           num_workers=2, drop_last = True)\n",
        "test_loader = torch.utils.data.DataLoader(cifar_test, batch_size = batch_size, shuffle = False,\n",
        "                                           num_workers=2, drop_last = True)"
      ],
      "metadata": {
        "id": "FzSCjHo93THH"
      },
      "execution_count": null,
      "outputs": []
    },
    {
      "cell_type": "code",
      "source": [
        "from torch.nn.modules.pooling import MaxPool2d\n",
        "from torch.nn.modules.conv import Conv2d\n",
        "class CNN(nn.Module) :\n",
        "  def __init__(self) :\n",
        "    super(CNN, self).__init__()\n",
        "    self.layer = nn.Sequential(\n",
        "        nn.Conv2d(3, 16, 3, padding=1),\n",
        "        nn.ReLU(),\n",
        "        #nn.Dropout2d(0, 2), #(2) drop out\n",
        "        #nn.BatchNorm2d(16), #(6) Batch normalization\n",
        "        nn.Conv2d(16, 32, 3, padding=1),\n",
        "        nn.ReLU(),\n",
        "        #nn.Dropout2d(0, 2),\n",
        "        #nn.BatchNorm2d(32),\n",
        "        nn.MaxPool2d(2, 2),\n",
        "        nn.Conv2d(32, 64, 3, padding=1),\n",
        "        nn.ReLU(),\n",
        "        #nn.Dropout2d(0,2),\n",
        "        #nn.BatchNorm2d(64),\n",
        "        nn.MaxPool2d(2, 2)\n",
        "    )\n",
        "    self.fc_layer=nn.Sequential(\n",
        "        nn.Linear(64*8*8, 100),\n",
        "        nn.ReLU(),\n",
        "        #nn.Dropout2d(0, 2),\n",
        "        #nn.BatchNorm2d(100),\n",
        "        nn.Linear(100, 10)\n",
        "    )\n",
        "\n",
        "    #(3) weight initialization\n",
        "    for m in self.modules():\n",
        "      if isinstance(m, nn.Conv2d):\n",
        "          init.kaiming_normal_(m.weight.data) # ReUL일 때\n",
        "          m.bias.data.fill_(0)\n",
        "      if isinstance(m, nn.Linear):\n",
        "          init.kaiming_normal_(m.weight.data)\n",
        "          m.bias.data.fill_(0)\n",
        "\n",
        "\n",
        "  def forward(self, x):\n",
        "    out = self.layer(x)\n",
        "    out = out.view(batch_size, -1)\n",
        "    out = self.fc_layer(out)\n",
        "\n",
        "    return out\n",
        "\n",
        "model = CNN().cuda()"
      ],
      "metadata": {
        "id": "A7DudIqE2j4j"
      },
      "execution_count": null,
      "outputs": []
    },
    {
      "cell_type": "code",
      "source": [
        "for i in range(num_epoch):\n",
        "  for j, [image, label] in enumerate(train_loader):\n",
        "    x=Variable(image).cuda()\n",
        "    y_=Variable(label).cuda()\n",
        "\n",
        "    optimizer.zero_grad()\n",
        "    output=model.forward(x)\n",
        "    loss=loss_func(output,y_)\n",
        "    loss.backward()\n",
        "    optimizer.step()\n",
        "\n",
        "    if j%1000==0:\n",
        "      print(j, loss)"
      ],
      "metadata": {
        "colab": {
          "base_uri": "https://localhost:8080/"
        },
        "id": "7EfnmTOP3DQy",
        "outputId": "b3f7539a-9a90-49c5-d339-461cf5c8cc45"
      },
      "execution_count": null,
      "outputs": [
        {
          "output_type": "stream",
          "name": "stdout",
          "text": [
            "0 tensor(2.3348, device='cuda:0', grad_fn=<NllLossBackward0>)\n",
            "1000 tensor(2.4375, device='cuda:0', grad_fn=<NllLossBackward0>)\n",
            "2000 tensor(2.4356, device='cuda:0', grad_fn=<NllLossBackward0>)\n",
            "3000 tensor(2.3465, device='cuda:0', grad_fn=<NllLossBackward0>)\n"
          ]
        }
      ]
    },
    {
      "cell_type": "code",
      "source": [
        "ComputeAccr(test_loader, model)"
      ],
      "metadata": {
        "colab": {
          "base_uri": "https://localhost:8080/"
        },
        "id": "FGba4MPh3Fpy",
        "outputId": "b6b54255-8f31-4849-c40f-11b268ce948d"
      },
      "execution_count": null,
      "outputs": [
        {
          "output_type": "stream",
          "name": "stderr",
          "text": [
            "/usr/local/lib/python3.7/dist-packages/ipykernel_launcher.py:6: UserWarning: volatile was removed and now has no effect. Use `with torch.no_grad():` instead.\n",
            "  \n"
          ]
        },
        {
          "output_type": "stream",
          "name": "stdout",
          "text": [
            "Accuracy of Test Data: 10.469999313354492\n"
          ]
        }
      ]
    },
    {
      "cell_type": "markdown",
      "source": [
        "## (4) Data Normalization"
      ],
      "metadata": {
        "id": "0HKLobv-303W"
      }
    },
    {
      "cell_type": "code",
      "source": [
        "cifar_train=dset.CIFAR10('CIFAR10/', train=True,\n",
        "                         transform=transforms.Compose([\n",
        "                          transforms.ToTensor(),\n",
        "                          transforms.Normalize(mean=(0.5, 0.5, 0.5),std=(0.5, 0.5, 0.5)),\n",
        "                         ]),\n",
        "                         target_transform=None, download=False)\n",
        "\n",
        "cifar_test=dset.CIFAR10('CIFAR10/', train=False,\n",
        "                         transform=transforms.Compose([\n",
        "                          transforms.ToTensor(),\n",
        "                          transforms.Normalize(mean=(0.5, 0.5, 0.5),std=(0.5, 0.5, 0.5)),\n",
        "                         ]),\n",
        "                         target_transform=None, download=False)\n"
      ],
      "metadata": {
        "id": "pdZ40ckE3mkQ"
      },
      "execution_count": 5,
      "outputs": []
    },
    {
      "cell_type": "code",
      "source": [
        "train_loader = torch.utils.data.DataLoader(list(cifar_train)[:], batch_size = batch_size, shuffle = True,\n",
        "                                           num_workers=2, drop_last = True)\n",
        "test_loader = torch.utils.data.DataLoader(cifar_test, batch_size = batch_size, shuffle = False,\n",
        "                                           num_workers=2, drop_last = True)\n",
        "\n",
        "\n",
        "from torch.nn.modules.pooling import MaxPool2d\n",
        "from torch.nn.modules.conv import Conv2d\n",
        "class CNN(nn.Module) :\n",
        "  def __init__(self) :\n",
        "    super(CNN, self).__init__()\n",
        "    self.layer = nn.Sequential(\n",
        "        nn.Conv2d(3, 16, 3, padding=1),\n",
        "        nn.ReLU(),\n",
        "        #nn.Dropout2d(0, 2), #(2) drop out\n",
        "        #nn.BatchNorm2d(16), #(6) Batch normalization\n",
        "        nn.Conv2d(16, 32, 3, padding=1),\n",
        "        nn.ReLU(),\n",
        "        #nn.Dropout2d(0, 2),\n",
        "        #nn.BatchNorm2d(32),\n",
        "        nn.MaxPool2d(2, 2),\n",
        "        nn.Conv2d(32, 64, 3, padding=1),\n",
        "        nn.ReLU(),\n",
        "        #nn.Dropout2d(0,2),\n",
        "        #nn.BatchNorm2d(64),\n",
        "        nn.MaxPool2d(2, 2)\n",
        "    )\n",
        "    self.fc_layer=nn.Sequential(\n",
        "        nn.Linear(64*8*8, 100),\n",
        "        nn.ReLU(),\n",
        "        #nn.Dropout2d(0, 2),\n",
        "        #nn.BatchNorm2d(100),\n",
        "        nn.Linear(100, 10)\n",
        "    )\n",
        "\n",
        "  def forward(self, x):\n",
        "    out = self.layer(x)\n",
        "    out = out.view(batch_size, -1)\n",
        "    out = self.fc_layer(out)\n",
        "\n",
        "    return out\n",
        "\n",
        "model = CNN().cuda()\n",
        "\n",
        "loss_func=nn.CrossEntropyLoss()\n",
        "optimizer=torch.optim.SGD(model.parameters(), lr=learning_rate)\n",
        "\n",
        "for i in range(num_epoch):\n",
        "  for j, [image, label] in enumerate(train_loader):\n",
        "    x=Variable(image).cuda()\n",
        "    y_=Variable(label).cuda()\n",
        "\n",
        "    optimizer.zero_grad()\n",
        "    output=model.forward(x)\n",
        "    loss=loss_func(output,y_)\n",
        "    loss.backward()\n",
        "    optimizer.step()\n",
        "\n",
        "    if j%1000==0:\n",
        "      print(j, loss)\n",
        "\n",
        "ComputeAccr(test_loader, model)"
      ],
      "metadata": {
        "colab": {
          "base_uri": "https://localhost:8080/"
        },
        "id": "BlwDvdq1vXET",
        "outputId": "d3b72901-8042-4bf3-8bd4-00d9fc33b972"
      },
      "execution_count": 6,
      "outputs": [
        {
          "output_type": "stream",
          "name": "stdout",
          "text": [
            "0 tensor(2.2767, device='cuda:0', grad_fn=<NllLossBackward0>)\n",
            "1000 tensor(2.3152, device='cuda:0', grad_fn=<NllLossBackward0>)\n",
            "2000 tensor(2.3087, device='cuda:0', grad_fn=<NllLossBackward0>)\n",
            "3000 tensor(2.2577, device='cuda:0', grad_fn=<NllLossBackward0>)\n"
          ]
        },
        {
          "output_type": "stream",
          "name": "stderr",
          "text": [
            "/usr/local/lib/python3.7/dist-packages/ipykernel_launcher.py:6: UserWarning: volatile was removed and now has no effect. Use `with torch.no_grad():` instead.\n",
            "  \n"
          ]
        },
        {
          "output_type": "stream",
          "name": "stdout",
          "text": [
            "Accuracy of Test Data: 20.69999885559082\n"
          ]
        }
      ]
    },
    {
      "cell_type": "markdown",
      "source": [
        "## (5) Batch Normalization"
      ],
      "metadata": {
        "id": "SJ4uUSC0vxQG"
      }
    },
    {
      "cell_type": "code",
      "source": [
        "cifar_train=dset.CIFAR10('CIFAR10/', train=True, \n",
        "                         transform=transforms.ToTensor(), target_transform=None, download=True)\n",
        "cifar_test=dset.CIFAR10('CIFAR10/', train=False, \n",
        "                        transform=transforms.ToTensor(), target_transform=None, download=True)\n",
        "\n",
        "\n",
        "train_loader = torch.utils.data.DataLoader(list(cifar_train)[:], batch_size = batch_size, shuffle = True,\n",
        "                                           num_workers=2, drop_last = True)\n",
        "test_loader = torch.utils.data.DataLoader(cifar_test, batch_size = batch_size, shuffle = False,\n",
        "                                           num_workers=2, drop_last = True)\n",
        "\n",
        "\n",
        "from torch.nn.modules.pooling import MaxPool2d\n",
        "from torch.nn.modules.conv import Conv2d\n",
        "class CNN(nn.Module) :\n",
        "  def __init__(self) :\n",
        "    super(CNN, self).__init__()\n",
        "    self.layer = nn.Sequential(\n",
        "        nn.Conv2d(3, 16, 3, padding=1),\n",
        "        nn.ReLU(),\n",
        "        #nn.Dropout2d(0, 2), #(2) drop out\n",
        "        nn.BatchNorm2d(16), #(5) Batch normalization\n",
        "        nn.Conv2d(16, 32, 3, padding=1),\n",
        "        nn.ReLU(),\n",
        "        #nn.Dropout2d(0, 2),\n",
        "        nn.BatchNorm2d(32),\n",
        "        nn.MaxPool2d(2, 2),\n",
        "        nn.Conv2d(32, 64, 3, padding=1),\n",
        "        nn.ReLU(),\n",
        "        #nn.Dropout2d(0,2),\n",
        "        nn.BatchNorm2d(64),\n",
        "        nn.MaxPool2d(2, 2)\n",
        "    )\n",
        "    self.fc_layer=nn.Sequential(\n",
        "        nn.Linear(64*8*8, 100),\n",
        "        nn.ReLU(),\n",
        "        #nn.Dropout2d(0, 2),\n",
        "        nn.BatchNorm1d(100),\n",
        "        nn.Linear(100, 10)\n",
        "    )\n",
        "\n",
        "  def forward(self, x):\n",
        "    out = self.layer(x)\n",
        "    out = out.view(batch_size, -1)\n",
        "    out = self.fc_layer(out)\n",
        "\n",
        "    return out\n",
        "\n",
        "model = CNN().cuda()\n",
        "\n",
        "loss_func=nn.CrossEntropyLoss()\n",
        "optimizer=torch.optim.SGD(model.parameters(), lr=learning_rate)\n",
        "\n",
        "for i in range(num_epoch):\n",
        "  for j, [image, label] in enumerate(train_loader):\n",
        "    x=Variable(image).cuda()\n",
        "    y_=Variable(label).cuda()\n",
        "\n",
        "    optimizer.zero_grad()\n",
        "    output=model.forward(x)\n",
        "    loss=loss_func(output,y_)\n",
        "    loss.backward()\n",
        "    optimizer.step()\n",
        "\n",
        "    if j%1000==0:\n",
        "      print(j, loss)\n",
        "\n",
        "ComputeAccr(test_loader, model)"
      ],
      "metadata": {
        "colab": {
          "base_uri": "https://localhost:8080/"
        },
        "id": "lZ3I7Uzevv1i",
        "outputId": "384c0f75-ca64-4e45-9bb9-292911b70869"
      },
      "execution_count": 8,
      "outputs": [
        {
          "output_type": "stream",
          "name": "stdout",
          "text": [
            "Files already downloaded and verified\n",
            "Files already downloaded and verified\n",
            "0 tensor(2.2231, device='cuda:0', grad_fn=<NllLossBackward0>)\n",
            "1000 tensor(1.7882, device='cuda:0', grad_fn=<NllLossBackward0>)\n",
            "2000 tensor(1.6664, device='cuda:0', grad_fn=<NllLossBackward0>)\n",
            "3000 tensor(1.3052, device='cuda:0', grad_fn=<NllLossBackward0>)\n"
          ]
        },
        {
          "output_type": "stream",
          "name": "stderr",
          "text": [
            "/usr/local/lib/python3.7/dist-packages/ipykernel_launcher.py:6: UserWarning: volatile was removed and now has no effect. Use `with torch.no_grad():` instead.\n",
            "  \n"
          ]
        },
        {
          "output_type": "stream",
          "name": "stdout",
          "text": [
            "Accuracy of Test Data: 61.31999969482422\n"
          ]
        }
      ]
    },
    {
      "cell_type": "markdown",
      "source": [
        "## (6) Adam Optimizer"
      ],
      "metadata": {
        "id": "5F8zm07pwZPZ"
      }
    },
    {
      "cell_type": "code",
      "source": [
        "cifar_train=dset.CIFAR10('CIFAR10/', train=True, \n",
        "                         transform=transforms.ToTensor(), target_transform=None, download=True)\n",
        "cifar_test=dset.CIFAR10('CIFAR10/', train=False, \n",
        "                        transform=transforms.ToTensor(), target_transform=None, download=True)\n",
        "\n",
        "train_loader = torch.utils.data.DataLoader(list(cifar_train)[:], batch_size = batch_size, shuffle = True,\n",
        "                                           num_workers=2, drop_last = True)\n",
        "test_loader = torch.utils.data.DataLoader(cifar_test, batch_size = batch_size, shuffle = False,\n",
        "                                           num_workers=2, drop_last = True)\n",
        "\n",
        "\n",
        "from torch.nn.modules.pooling import MaxPool2d\n",
        "from torch.nn.modules.conv import Conv2d\n",
        "class CNN(nn.Module) :\n",
        "  def __init__(self) :\n",
        "    super(CNN, self).__init__()\n",
        "    self.layer = nn.Sequential(\n",
        "        nn.Conv2d(3, 16, 3, padding=1),\n",
        "        nn.ReLU(),\n",
        "        #nn.Dropout2d(0, 2), #(2) drop out\n",
        "        #nn.BatchNorm2d(16), #(6) Batch normalization\n",
        "        nn.Conv2d(16, 32, 3, padding=1),\n",
        "        nn.ReLU(),\n",
        "        #nn.Dropout2d(0, 2),\n",
        "        #nn.BatchNorm2d(32),\n",
        "        nn.MaxPool2d(2, 2),\n",
        "        nn.Conv2d(32, 64, 3, padding=1),\n",
        "        nn.ReLU(),\n",
        "        #nn.Dropout2d(0,2),\n",
        "        #nn.BatchNorm2d(64),\n",
        "        nn.MaxPool2d(2, 2)\n",
        "    )\n",
        "    self.fc_layer=nn.Sequential(\n",
        "        nn.Linear(64*8*8, 100),\n",
        "        nn.ReLU(),\n",
        "        #nn.Dropout2d(0, 2),\n",
        "        #nn.BatchNorm2d(100),\n",
        "        nn.Linear(100, 10)\n",
        "    )\n",
        "\n",
        "  def forward(self, x):\n",
        "    out = self.layer(x)\n",
        "    out = out.view(batch_size, -1)\n",
        "    out = self.fc_layer(out)\n",
        "\n",
        "    return out\n",
        "\n",
        "model = CNN().cuda()\n",
        "\n",
        "# ===== 5. loss, optimizer =====\n",
        "loss_func=nn.CrossEntropyLoss()\n",
        "optimizer=torch.optim.Adam(model.parameters(), lr=learning_rate)\n",
        "\n",
        "for i in range(num_epoch):\n",
        "  for j, [image, label] in enumerate(train_loader):\n",
        "    x=Variable(image).cuda()\n",
        "    y_=Variable(label).cuda()\n",
        "\n",
        "    optimizer.zero_grad()\n",
        "    output=model.forward(x)\n",
        "    loss=loss_func(output,y_)\n",
        "    loss.backward()\n",
        "    optimizer.step()\n",
        "\n",
        "    if j%1000==0:\n",
        "      print(j, loss)\n",
        "\n",
        "ComputeAccr(test_loader, model)"
      ],
      "metadata": {
        "colab": {
          "base_uri": "https://localhost:8080/"
        },
        "id": "HrRoT2ohwJM_",
        "outputId": "c0f1f0c9-5060-46d0-aa8a-71ad1903068b"
      },
      "execution_count": 9,
      "outputs": [
        {
          "output_type": "stream",
          "name": "stdout",
          "text": [
            "Files already downloaded and verified\n",
            "Files already downloaded and verified\n",
            "0 tensor(2.3014, device='cuda:0', grad_fn=<NllLossBackward0>)\n",
            "1000 tensor(1.4263, device='cuda:0', grad_fn=<NllLossBackward0>)\n",
            "2000 tensor(1.2307, device='cuda:0', grad_fn=<NllLossBackward0>)\n",
            "3000 tensor(0.7115, device='cuda:0', grad_fn=<NllLossBackward0>)\n"
          ]
        },
        {
          "output_type": "stream",
          "name": "stderr",
          "text": [
            "/usr/local/lib/python3.7/dist-packages/ipykernel_launcher.py:6: UserWarning: volatile was removed and now has no effect. Use `with torch.no_grad():` instead.\n",
            "  \n"
          ]
        },
        {
          "output_type": "stream",
          "name": "stdout",
          "text": [
            "Accuracy of Test Data: 57.55999755859375\n"
          ]
        }
      ]
    },
    {
      "cell_type": "markdown",
      "source": [
        "## (7) learning rate decay"
      ],
      "metadata": {
        "id": "HZgGtxvPw11Z"
      }
    },
    {
      "cell_type": "code",
      "source": [
        "num_epoch = 60\n",
        "\n",
        "cifar_train=dset.CIFAR10('CIFAR10/', train=True, \n",
        "                         transform=transforms.ToTensor(), target_transform=None, download=True)\n",
        "cifar_test=dset.CIFAR10('CIFAR10/', train=False, \n",
        "                        transform=transforms.ToTensor(), target_transform=None, download=True)\n",
        "\n",
        "train_loader = torch.utils.data.DataLoader(list(cifar_train)[:], batch_size = batch_size, shuffle = True,\n",
        "                                           num_workers=2, drop_last = True)\n",
        "test_loader = torch.utils.data.DataLoader(cifar_test, batch_size = batch_size, shuffle = False,\n",
        "                                           num_workers=2, drop_last = True)\n",
        "\n",
        "\n",
        "from torch.nn.modules.pooling import MaxPool2d\n",
        "from torch.nn.modules.conv import Conv2d\n",
        "class CNN(nn.Module) :\n",
        "  def __init__(self) :\n",
        "    super(CNN, self).__init__()\n",
        "    self.layer = nn.Sequential(\n",
        "        nn.Conv2d(3, 16, 3, padding=1),\n",
        "        nn.ReLU(),\n",
        "        #nn.Dropout2d(0, 2), #(2) drop out\n",
        "        #nn.BatchNorm2d(16), #(6) Batch normalization\n",
        "        nn.Conv2d(16, 32, 3, padding=1),\n",
        "        nn.ReLU(),\n",
        "        #nn.Dropout2d(0, 2),\n",
        "        #nn.BatchNorm2d(32),\n",
        "        nn.MaxPool2d(2, 2),\n",
        "        nn.Conv2d(32, 64, 3, padding=1),\n",
        "        nn.ReLU(),\n",
        "        #nn.Dropout2d(0,2),\n",
        "        #nn.BatchNorm2d(64),\n",
        "        nn.MaxPool2d(2, 2)\n",
        "    )\n",
        "    self.fc_layer=nn.Sequential(\n",
        "        nn.Linear(64*8*8, 100),\n",
        "        nn.ReLU(),\n",
        "        #nn.Dropout2d(0, 2),\n",
        "        #nn.BatchNorm2d(100),\n",
        "        nn.Linear(100, 10)\n",
        "    )\n",
        "\n",
        "  def forward(self, x):\n",
        "    out = self.layer(x)\n",
        "    out = out.view(batch_size, -1)\n",
        "    out = self.fc_layer(out)\n",
        "\n",
        "    return out\n",
        "\n",
        "model = CNN().cuda()\n",
        "\n",
        "loss_func=nn.CrossEntropyLoss()\n",
        "optimizer=torch.optim.SGD(model.parameters(), lr=learning_rate)\n",
        "\n",
        "scheduler = lr_scheduler.StepLR(optimizer, step_size=20, gamma=0.2) # 7. learning rate decay\n",
        "\n",
        "for i in range(num_epoch):\n",
        "  for j, [image, label] in enumerate(train_loader):\n",
        "    x=Variable(image).cuda()\n",
        "    y_=Variable(label).cuda()\n",
        "\n",
        "    optimizer.zero_grad()\n",
        "    output=model.forward(x)\n",
        "    loss=loss_func(output,y_)\n",
        "    loss.backward()\n",
        "    optimizer.step()\n",
        "\n",
        "    if j%1000==0:\n",
        "      print(j, loss)\n",
        "\n",
        "ComputeAccr(test_loader, model)"
      ],
      "metadata": {
        "colab": {
          "base_uri": "https://localhost:8080/"
        },
        "id": "vhu2XEFjwxqB",
        "outputId": "6ae176dc-7669-4064-a491-9f6c8006f590"
      },
      "execution_count": 12,
      "outputs": [
        {
          "output_type": "stream",
          "name": "stdout",
          "text": [
            "Files already downloaded and verified\n",
            "Files already downloaded and verified\n",
            "0 tensor(2.2980, device='cuda:0', grad_fn=<NllLossBackward0>)\n",
            "1000 tensor(2.2968, device='cuda:0', grad_fn=<NllLossBackward0>)\n",
            "2000 tensor(2.2715, device='cuda:0', grad_fn=<NllLossBackward0>)\n",
            "3000 tensor(2.2080, device='cuda:0', grad_fn=<NllLossBackward0>)\n",
            "0 tensor(2.0974, device='cuda:0', grad_fn=<NllLossBackward0>)\n",
            "1000 tensor(2.0151, device='cuda:0', grad_fn=<NllLossBackward0>)\n",
            "2000 tensor(2.1366, device='cuda:0', grad_fn=<NllLossBackward0>)\n",
            "3000 tensor(1.9353, device='cuda:0', grad_fn=<NllLossBackward0>)\n",
            "0 tensor(2.0604, device='cuda:0', grad_fn=<NllLossBackward0>)\n",
            "1000 tensor(1.9702, device='cuda:0', grad_fn=<NllLossBackward0>)\n",
            "2000 tensor(2.0257, device='cuda:0', grad_fn=<NllLossBackward0>)\n",
            "3000 tensor(1.7058, device='cuda:0', grad_fn=<NllLossBackward0>)\n",
            "0 tensor(1.9715, device='cuda:0', grad_fn=<NllLossBackward0>)\n",
            "1000 tensor(1.3509, device='cuda:0', grad_fn=<NllLossBackward0>)\n",
            "2000 tensor(1.9155, device='cuda:0', grad_fn=<NllLossBackward0>)\n",
            "3000 tensor(1.5906, device='cuda:0', grad_fn=<NllLossBackward0>)\n",
            "0 tensor(1.4233, device='cuda:0', grad_fn=<NllLossBackward0>)\n",
            "1000 tensor(1.6417, device='cuda:0', grad_fn=<NllLossBackward0>)\n",
            "2000 tensor(1.2249, device='cuda:0', grad_fn=<NllLossBackward0>)\n",
            "3000 tensor(1.6133, device='cuda:0', grad_fn=<NllLossBackward0>)\n",
            "0 tensor(1.7932, device='cuda:0', grad_fn=<NllLossBackward0>)\n",
            "1000 tensor(1.4281, device='cuda:0', grad_fn=<NllLossBackward0>)\n",
            "2000 tensor(2.0989, device='cuda:0', grad_fn=<NllLossBackward0>)\n",
            "3000 tensor(1.7903, device='cuda:0', grad_fn=<NllLossBackward0>)\n",
            "0 tensor(1.1427, device='cuda:0', grad_fn=<NllLossBackward0>)\n",
            "1000 tensor(2.0164, device='cuda:0', grad_fn=<NllLossBackward0>)\n",
            "2000 tensor(1.4696, device='cuda:0', grad_fn=<NllLossBackward0>)\n",
            "3000 tensor(0.9413, device='cuda:0', grad_fn=<NllLossBackward0>)\n",
            "0 tensor(1.4867, device='cuda:0', grad_fn=<NllLossBackward0>)\n",
            "1000 tensor(1.5989, device='cuda:0', grad_fn=<NllLossBackward0>)\n",
            "2000 tensor(1.4559, device='cuda:0', grad_fn=<NllLossBackward0>)\n",
            "3000 tensor(1.2556, device='cuda:0', grad_fn=<NllLossBackward0>)\n",
            "0 tensor(0.9234, device='cuda:0', grad_fn=<NllLossBackward0>)\n",
            "1000 tensor(1.2794, device='cuda:0', grad_fn=<NllLossBackward0>)\n",
            "2000 tensor(1.0529, device='cuda:0', grad_fn=<NllLossBackward0>)\n",
            "3000 tensor(1.0565, device='cuda:0', grad_fn=<NllLossBackward0>)\n",
            "0 tensor(1.0906, device='cuda:0', grad_fn=<NllLossBackward0>)\n",
            "1000 tensor(1.5796, device='cuda:0', grad_fn=<NllLossBackward0>)\n",
            "2000 tensor(1.6170, device='cuda:0', grad_fn=<NllLossBackward0>)\n",
            "3000 tensor(1.0845, device='cuda:0', grad_fn=<NllLossBackward0>)\n",
            "0 tensor(1.1968, device='cuda:0', grad_fn=<NllLossBackward0>)\n",
            "1000 tensor(1.1063, device='cuda:0', grad_fn=<NllLossBackward0>)\n",
            "2000 tensor(1.1095, device='cuda:0', grad_fn=<NllLossBackward0>)\n",
            "3000 tensor(0.9812, device='cuda:0', grad_fn=<NllLossBackward0>)\n",
            "0 tensor(1.1342, device='cuda:0', grad_fn=<NllLossBackward0>)\n",
            "1000 tensor(1.5911, device='cuda:0', grad_fn=<NllLossBackward0>)\n",
            "2000 tensor(1.0887, device='cuda:0', grad_fn=<NllLossBackward0>)\n",
            "3000 tensor(1.4897, device='cuda:0', grad_fn=<NllLossBackward0>)\n",
            "0 tensor(0.8664, device='cuda:0', grad_fn=<NllLossBackward0>)\n",
            "1000 tensor(0.8954, device='cuda:0', grad_fn=<NllLossBackward0>)\n",
            "2000 tensor(1.2796, device='cuda:0', grad_fn=<NllLossBackward0>)\n",
            "3000 tensor(1.7618, device='cuda:0', grad_fn=<NllLossBackward0>)\n",
            "0 tensor(0.9904, device='cuda:0', grad_fn=<NllLossBackward0>)\n",
            "1000 tensor(1.5937, device='cuda:0', grad_fn=<NllLossBackward0>)\n",
            "2000 tensor(0.8572, device='cuda:0', grad_fn=<NllLossBackward0>)\n",
            "3000 tensor(0.8756, device='cuda:0', grad_fn=<NllLossBackward0>)\n",
            "0 tensor(1.2715, device='cuda:0', grad_fn=<NllLossBackward0>)\n",
            "1000 tensor(0.8705, device='cuda:0', grad_fn=<NllLossBackward0>)\n",
            "2000 tensor(1.0068, device='cuda:0', grad_fn=<NllLossBackward0>)\n",
            "3000 tensor(1.4762, device='cuda:0', grad_fn=<NllLossBackward0>)\n",
            "0 tensor(1.0512, device='cuda:0', grad_fn=<NllLossBackward0>)\n",
            "1000 tensor(0.8803, device='cuda:0', grad_fn=<NllLossBackward0>)\n",
            "2000 tensor(0.9601, device='cuda:0', grad_fn=<NllLossBackward0>)\n",
            "3000 tensor(1.1293, device='cuda:0', grad_fn=<NllLossBackward0>)\n",
            "0 tensor(0.9888, device='cuda:0', grad_fn=<NllLossBackward0>)\n",
            "1000 tensor(0.9019, device='cuda:0', grad_fn=<NllLossBackward0>)\n",
            "2000 tensor(0.7746, device='cuda:0', grad_fn=<NllLossBackward0>)\n",
            "3000 tensor(0.6240, device='cuda:0', grad_fn=<NllLossBackward0>)\n",
            "0 tensor(0.8457, device='cuda:0', grad_fn=<NllLossBackward0>)\n",
            "1000 tensor(1.1605, device='cuda:0', grad_fn=<NllLossBackward0>)\n",
            "2000 tensor(0.8087, device='cuda:0', grad_fn=<NllLossBackward0>)\n",
            "3000 tensor(0.5369, device='cuda:0', grad_fn=<NllLossBackward0>)\n",
            "0 tensor(0.6452, device='cuda:0', grad_fn=<NllLossBackward0>)\n",
            "1000 tensor(1.4842, device='cuda:0', grad_fn=<NllLossBackward0>)\n",
            "2000 tensor(0.9130, device='cuda:0', grad_fn=<NllLossBackward0>)\n",
            "3000 tensor(1.3097, device='cuda:0', grad_fn=<NllLossBackward0>)\n",
            "0 tensor(1.1476, device='cuda:0', grad_fn=<NllLossBackward0>)\n",
            "1000 tensor(1.0829, device='cuda:0', grad_fn=<NllLossBackward0>)\n",
            "2000 tensor(1.0188, device='cuda:0', grad_fn=<NllLossBackward0>)\n",
            "3000 tensor(1.1683, device='cuda:0', grad_fn=<NllLossBackward0>)\n",
            "0 tensor(0.4845, device='cuda:0', grad_fn=<NllLossBackward0>)\n",
            "1000 tensor(0.6447, device='cuda:0', grad_fn=<NllLossBackward0>)\n",
            "2000 tensor(0.9089, device='cuda:0', grad_fn=<NllLossBackward0>)\n",
            "3000 tensor(0.7761, device='cuda:0', grad_fn=<NllLossBackward0>)\n",
            "0 tensor(1.0516, device='cuda:0', grad_fn=<NllLossBackward0>)\n",
            "1000 tensor(0.6325, device='cuda:0', grad_fn=<NllLossBackward0>)\n",
            "2000 tensor(0.5764, device='cuda:0', grad_fn=<NllLossBackward0>)\n",
            "3000 tensor(0.4706, device='cuda:0', grad_fn=<NllLossBackward0>)\n",
            "0 tensor(0.5270, device='cuda:0', grad_fn=<NllLossBackward0>)\n",
            "1000 tensor(0.6523, device='cuda:0', grad_fn=<NllLossBackward0>)\n",
            "2000 tensor(0.9864, device='cuda:0', grad_fn=<NllLossBackward0>)\n",
            "3000 tensor(0.6759, device='cuda:0', grad_fn=<NllLossBackward0>)\n",
            "0 tensor(0.4721, device='cuda:0', grad_fn=<NllLossBackward0>)\n",
            "1000 tensor(0.9155, device='cuda:0', grad_fn=<NllLossBackward0>)\n",
            "2000 tensor(0.4260, device='cuda:0', grad_fn=<NllLossBackward0>)\n",
            "3000 tensor(1.3253, device='cuda:0', grad_fn=<NllLossBackward0>)\n",
            "0 tensor(0.6925, device='cuda:0', grad_fn=<NllLossBackward0>)\n",
            "1000 tensor(0.5565, device='cuda:0', grad_fn=<NllLossBackward0>)\n",
            "2000 tensor(0.4063, device='cuda:0', grad_fn=<NllLossBackward0>)\n",
            "3000 tensor(0.6814, device='cuda:0', grad_fn=<NllLossBackward0>)\n",
            "0 tensor(0.6402, device='cuda:0', grad_fn=<NllLossBackward0>)\n",
            "1000 tensor(0.5228, device='cuda:0', grad_fn=<NllLossBackward0>)\n",
            "2000 tensor(0.2792, device='cuda:0', grad_fn=<NllLossBackward0>)\n",
            "3000 tensor(0.7263, device='cuda:0', grad_fn=<NllLossBackward0>)\n",
            "0 tensor(0.7311, device='cuda:0', grad_fn=<NllLossBackward0>)\n",
            "1000 tensor(0.2719, device='cuda:0', grad_fn=<NllLossBackward0>)\n",
            "2000 tensor(0.7759, device='cuda:0', grad_fn=<NllLossBackward0>)\n",
            "3000 tensor(0.6936, device='cuda:0', grad_fn=<NllLossBackward0>)\n",
            "0 tensor(0.9892, device='cuda:0', grad_fn=<NllLossBackward0>)\n",
            "1000 tensor(0.5391, device='cuda:0', grad_fn=<NllLossBackward0>)\n",
            "2000 tensor(0.5977, device='cuda:0', grad_fn=<NllLossBackward0>)\n",
            "3000 tensor(0.4961, device='cuda:0', grad_fn=<NllLossBackward0>)\n",
            "0 tensor(0.2945, device='cuda:0', grad_fn=<NllLossBackward0>)\n",
            "1000 tensor(0.4832, device='cuda:0', grad_fn=<NllLossBackward0>)\n",
            "2000 tensor(0.4867, device='cuda:0', grad_fn=<NllLossBackward0>)\n",
            "3000 tensor(0.5226, device='cuda:0', grad_fn=<NllLossBackward0>)\n",
            "0 tensor(0.5757, device='cuda:0', grad_fn=<NllLossBackward0>)\n",
            "1000 tensor(1.0004, device='cuda:0', grad_fn=<NllLossBackward0>)\n",
            "2000 tensor(0.3500, device='cuda:0', grad_fn=<NllLossBackward0>)\n",
            "3000 tensor(1.1571, device='cuda:0', grad_fn=<NllLossBackward0>)\n",
            "0 tensor(0.5801, device='cuda:0', grad_fn=<NllLossBackward0>)\n",
            "1000 tensor(0.3135, device='cuda:0', grad_fn=<NllLossBackward0>)\n",
            "2000 tensor(0.6741, device='cuda:0', grad_fn=<NllLossBackward0>)\n",
            "3000 tensor(0.4795, device='cuda:0', grad_fn=<NllLossBackward0>)\n",
            "0 tensor(0.9540, device='cuda:0', grad_fn=<NllLossBackward0>)\n",
            "1000 tensor(0.2891, device='cuda:0', grad_fn=<NllLossBackward0>)\n",
            "2000 tensor(0.4357, device='cuda:0', grad_fn=<NllLossBackward0>)\n",
            "3000 tensor(0.4788, device='cuda:0', grad_fn=<NllLossBackward0>)\n",
            "0 tensor(0.4483, device='cuda:0', grad_fn=<NllLossBackward0>)\n",
            "1000 tensor(0.4414, device='cuda:0', grad_fn=<NllLossBackward0>)\n",
            "2000 tensor(0.2385, device='cuda:0', grad_fn=<NllLossBackward0>)\n",
            "3000 tensor(0.4268, device='cuda:0', grad_fn=<NllLossBackward0>)\n",
            "0 tensor(0.2692, device='cuda:0', grad_fn=<NllLossBackward0>)\n",
            "1000 tensor(0.6853, device='cuda:0', grad_fn=<NllLossBackward0>)\n",
            "2000 tensor(0.2195, device='cuda:0', grad_fn=<NllLossBackward0>)\n",
            "3000 tensor(0.7965, device='cuda:0', grad_fn=<NllLossBackward0>)\n",
            "0 tensor(0.2092, device='cuda:0', grad_fn=<NllLossBackward0>)\n",
            "1000 tensor(0.5580, device='cuda:0', grad_fn=<NllLossBackward0>)\n",
            "2000 tensor(0.6236, device='cuda:0', grad_fn=<NllLossBackward0>)\n",
            "3000 tensor(0.4793, device='cuda:0', grad_fn=<NllLossBackward0>)\n",
            "0 tensor(0.4944, device='cuda:0', grad_fn=<NllLossBackward0>)\n",
            "1000 tensor(0.3366, device='cuda:0', grad_fn=<NllLossBackward0>)\n",
            "2000 tensor(0.5871, device='cuda:0', grad_fn=<NllLossBackward0>)\n",
            "3000 tensor(0.3691, device='cuda:0', grad_fn=<NllLossBackward0>)\n",
            "0 tensor(0.4854, device='cuda:0', grad_fn=<NllLossBackward0>)\n",
            "1000 tensor(0.1668, device='cuda:0', grad_fn=<NllLossBackward0>)\n",
            "2000 tensor(0.8724, device='cuda:0', grad_fn=<NllLossBackward0>)\n",
            "3000 tensor(0.5881, device='cuda:0', grad_fn=<NllLossBackward0>)\n",
            "0 tensor(0.4344, device='cuda:0', grad_fn=<NllLossBackward0>)\n",
            "1000 tensor(0.1276, device='cuda:0', grad_fn=<NllLossBackward0>)\n",
            "2000 tensor(0.5109, device='cuda:0', grad_fn=<NllLossBackward0>)\n",
            "3000 tensor(0.0853, device='cuda:0', grad_fn=<NllLossBackward0>)\n",
            "0 tensor(0.3204, device='cuda:0', grad_fn=<NllLossBackward0>)\n",
            "1000 tensor(0.2192, device='cuda:0', grad_fn=<NllLossBackward0>)\n",
            "2000 tensor(0.3474, device='cuda:0', grad_fn=<NllLossBackward0>)\n",
            "3000 tensor(0.4508, device='cuda:0', grad_fn=<NllLossBackward0>)\n",
            "0 tensor(0.2771, device='cuda:0', grad_fn=<NllLossBackward0>)\n",
            "1000 tensor(0.3004, device='cuda:0', grad_fn=<NllLossBackward0>)\n",
            "2000 tensor(0.2868, device='cuda:0', grad_fn=<NllLossBackward0>)\n",
            "3000 tensor(0.3241, device='cuda:0', grad_fn=<NllLossBackward0>)\n",
            "0 tensor(0.1593, device='cuda:0', grad_fn=<NllLossBackward0>)\n",
            "1000 tensor(0.1443, device='cuda:0', grad_fn=<NllLossBackward0>)\n",
            "2000 tensor(0.1819, device='cuda:0', grad_fn=<NllLossBackward0>)\n",
            "3000 tensor(0.1467, device='cuda:0', grad_fn=<NllLossBackward0>)\n",
            "0 tensor(0.1828, device='cuda:0', grad_fn=<NllLossBackward0>)\n",
            "1000 tensor(0.1519, device='cuda:0', grad_fn=<NllLossBackward0>)\n",
            "2000 tensor(0.0557, device='cuda:0', grad_fn=<NllLossBackward0>)\n",
            "3000 tensor(0.1511, device='cuda:0', grad_fn=<NllLossBackward0>)\n",
            "0 tensor(0.1470, device='cuda:0', grad_fn=<NllLossBackward0>)\n",
            "1000 tensor(0.1607, device='cuda:0', grad_fn=<NllLossBackward0>)\n",
            "2000 tensor(0.0636, device='cuda:0', grad_fn=<NllLossBackward0>)\n",
            "3000 tensor(0.1905, device='cuda:0', grad_fn=<NllLossBackward0>)\n",
            "0 tensor(0.1574, device='cuda:0', grad_fn=<NllLossBackward0>)\n",
            "1000 tensor(0.0414, device='cuda:0', grad_fn=<NllLossBackward0>)\n",
            "2000 tensor(0.1482, device='cuda:0', grad_fn=<NllLossBackward0>)\n",
            "3000 tensor(0.1508, device='cuda:0', grad_fn=<NllLossBackward0>)\n",
            "0 tensor(0.0623, device='cuda:0', grad_fn=<NllLossBackward0>)\n",
            "1000 tensor(0.1152, device='cuda:0', grad_fn=<NllLossBackward0>)\n",
            "2000 tensor(0.0327, device='cuda:0', grad_fn=<NllLossBackward0>)\n",
            "3000 tensor(0.1716, device='cuda:0', grad_fn=<NllLossBackward0>)\n",
            "0 tensor(0.2556, device='cuda:0', grad_fn=<NllLossBackward0>)\n",
            "1000 tensor(0.1993, device='cuda:0', grad_fn=<NllLossBackward0>)\n",
            "2000 tensor(0.2362, device='cuda:0', grad_fn=<NllLossBackward0>)\n",
            "3000 tensor(0.1377, device='cuda:0', grad_fn=<NllLossBackward0>)\n",
            "0 tensor(0.2004, device='cuda:0', grad_fn=<NllLossBackward0>)\n",
            "1000 tensor(0.0509, device='cuda:0', grad_fn=<NllLossBackward0>)\n",
            "2000 tensor(0.0236, device='cuda:0', grad_fn=<NllLossBackward0>)\n",
            "3000 tensor(0.2165, device='cuda:0', grad_fn=<NllLossBackward0>)\n",
            "0 tensor(0.0602, device='cuda:0', grad_fn=<NllLossBackward0>)\n",
            "1000 tensor(0.4284, device='cuda:0', grad_fn=<NllLossBackward0>)\n",
            "2000 tensor(0.0430, device='cuda:0', grad_fn=<NllLossBackward0>)\n",
            "3000 tensor(0.2635, device='cuda:0', grad_fn=<NllLossBackward0>)\n",
            "0 tensor(0.0626, device='cuda:0', grad_fn=<NllLossBackward0>)\n",
            "1000 tensor(0.1260, device='cuda:0', grad_fn=<NllLossBackward0>)\n",
            "2000 tensor(0.4041, device='cuda:0', grad_fn=<NllLossBackward0>)\n",
            "3000 tensor(0.1209, device='cuda:0', grad_fn=<NllLossBackward0>)\n",
            "0 tensor(0.1086, device='cuda:0', grad_fn=<NllLossBackward0>)\n",
            "1000 tensor(0.0116, device='cuda:0', grad_fn=<NllLossBackward0>)\n",
            "2000 tensor(0.1112, device='cuda:0', grad_fn=<NllLossBackward0>)\n",
            "3000 tensor(0.0512, device='cuda:0', grad_fn=<NllLossBackward0>)\n",
            "0 tensor(0.1920, device='cuda:0', grad_fn=<NllLossBackward0>)\n",
            "1000 tensor(0.0859, device='cuda:0', grad_fn=<NllLossBackward0>)\n",
            "2000 tensor(0.1212, device='cuda:0', grad_fn=<NllLossBackward0>)\n",
            "3000 tensor(0.1236, device='cuda:0', grad_fn=<NllLossBackward0>)\n",
            "0 tensor(0.0267, device='cuda:0', grad_fn=<NllLossBackward0>)\n",
            "1000 tensor(0.0198, device='cuda:0', grad_fn=<NllLossBackward0>)\n",
            "2000 tensor(0.0091, device='cuda:0', grad_fn=<NllLossBackward0>)\n",
            "3000 tensor(0.0924, device='cuda:0', grad_fn=<NllLossBackward0>)\n",
            "0 tensor(0.0744, device='cuda:0', grad_fn=<NllLossBackward0>)\n",
            "1000 tensor(0.0306, device='cuda:0', grad_fn=<NllLossBackward0>)\n",
            "2000 tensor(0.0267, device='cuda:0', grad_fn=<NllLossBackward0>)\n",
            "3000 tensor(0.1682, device='cuda:0', grad_fn=<NllLossBackward0>)\n",
            "0 tensor(0.1452, device='cuda:0', grad_fn=<NllLossBackward0>)\n",
            "1000 tensor(0.2524, device='cuda:0', grad_fn=<NllLossBackward0>)\n",
            "2000 tensor(0.0157, device='cuda:0', grad_fn=<NllLossBackward0>)\n",
            "3000 tensor(0.1633, device='cuda:0', grad_fn=<NllLossBackward0>)\n",
            "0 tensor(0.1393, device='cuda:0', grad_fn=<NllLossBackward0>)\n",
            "1000 tensor(0.0743, device='cuda:0', grad_fn=<NllLossBackward0>)\n",
            "2000 tensor(0.0131, device='cuda:0', grad_fn=<NllLossBackward0>)\n",
            "3000 tensor(0.0056, device='cuda:0', grad_fn=<NllLossBackward0>)\n",
            "0 tensor(0.0705, device='cuda:0', grad_fn=<NllLossBackward0>)\n",
            "1000 tensor(0.0333, device='cuda:0', grad_fn=<NllLossBackward0>)\n",
            "2000 tensor(0.0840, device='cuda:0', grad_fn=<NllLossBackward0>)\n",
            "3000 tensor(0.1960, device='cuda:0', grad_fn=<NllLossBackward0>)\n",
            "0 tensor(0.0349, device='cuda:0', grad_fn=<NllLossBackward0>)\n",
            "1000 tensor(0.0301, device='cuda:0', grad_fn=<NllLossBackward0>)\n",
            "2000 tensor(0.0699, device='cuda:0', grad_fn=<NllLossBackward0>)\n",
            "3000 tensor(0.0687, device='cuda:0', grad_fn=<NllLossBackward0>)\n",
            "0 tensor(0.0507, device='cuda:0', grad_fn=<NllLossBackward0>)\n",
            "1000 tensor(0.0044, device='cuda:0', grad_fn=<NllLossBackward0>)\n",
            "2000 tensor(0.0490, device='cuda:0', grad_fn=<NllLossBackward0>)\n",
            "3000 tensor(0.0124, device='cuda:0', grad_fn=<NllLossBackward0>)\n",
            "0 tensor(0.0097, device='cuda:0', grad_fn=<NllLossBackward0>)\n",
            "1000 tensor(0.0109, device='cuda:0', grad_fn=<NllLossBackward0>)\n",
            "2000 tensor(0.0081, device='cuda:0', grad_fn=<NllLossBackward0>)\n",
            "3000 tensor(0.0065, device='cuda:0', grad_fn=<NllLossBackward0>)\n",
            "0 tensor(0.0748, device='cuda:0', grad_fn=<NllLossBackward0>)\n",
            "1000 tensor(0.0019, device='cuda:0', grad_fn=<NllLossBackward0>)\n",
            "2000 tensor(0.0285, device='cuda:0', grad_fn=<NllLossBackward0>)\n",
            "3000 tensor(0.0059, device='cuda:0', grad_fn=<NllLossBackward0>)\n"
          ]
        },
        {
          "output_type": "stream",
          "name": "stderr",
          "text": [
            "/usr/local/lib/python3.7/dist-packages/ipykernel_launcher.py:6: UserWarning: volatile was removed and now has no effect. Use `with torch.no_grad():` instead.\n",
            "  \n"
          ]
        },
        {
          "output_type": "stream",
          "name": "stdout",
          "text": [
            "Accuracy of Test Data: 64.72000122070312\n"
          ]
        }
      ]
    },
    {
      "cell_type": "code",
      "source": [
        ""
      ],
      "metadata": {
        "id": "vfesyev1xc1q"
      },
      "execution_count": null,
      "outputs": []
    }
  ]
}
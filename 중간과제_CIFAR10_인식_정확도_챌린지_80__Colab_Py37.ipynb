{
  "nbformat": 4,
  "nbformat_minor": 0,
  "metadata": {
    "colab": {
      "name": "중간과제_CIFAR10_인식_정확도_챌린지-80%_Colab.Py37",
      "provenance": [],
      "collapsed_sections": [],
      "include_colab_link": true
    },
    "kernelspec": {
      "name": "python3",
      "display_name": "Python 3"
    },
    "language_info": {
      "name": "python"
    },
    "accelerator": "GPU"
  },
  "cells": [
    {
      "cell_type": "markdown",
      "metadata": {
        "id": "view-in-github",
        "colab_type": "text"
      },
      "source": [
        "<a href=\"https://colab.research.google.com/github/Jaew00/DeepLearning/blob/main/%EC%A4%91%EA%B0%84%EA%B3%BC%EC%A0%9C_CIFAR10_%EC%9D%B8%EC%8B%9D_%EC%A0%95%ED%99%95%EB%8F%84_%EC%B1%8C%EB%A6%B0%EC%A7%80_80__Colab_Py37.ipynb\" target=\"_parent\"><img src=\"https://colab.research.google.com/assets/colab-badge.svg\" alt=\"Open In Colab\"/></a>"
      ]
    },
    {
      "cell_type": "code",
      "source": [
        "gpu_info = !nvidia-smi\n",
        "gpu_info = '\\n'.join(gpu_info)\n",
        "if gpu_info.find('failed') >= 0:\n",
        "  print('Not connected to a GPU')\n",
        "else:\n",
        "  print(gpu_info)\n",
        "\n",
        "from psutil import virtual_memory\n",
        "ram_gb = virtual_memory().total / 1e9\n",
        "print('Your runtime has {:.1f} gigabytes of available RAM\\n'.format(ram_gb))\n",
        "\n",
        "if ram_gb < 20:\n",
        "  print('Not using a high-RAM runtime')\n",
        "else:\n",
        "  print('You are using a high-RAM runtime!')"
      ],
      "metadata": {
        "colab": {
          "base_uri": "https://localhost:8080/"
        },
        "id": "k504iOW4E6-U",
        "outputId": "a19e1408-a1d7-4783-a6fa-7728e30e3e89"
      },
      "execution_count": null,
      "outputs": [
        {
          "output_type": "stream",
          "name": "stdout",
          "text": [
            "Fri May 20 10:21:48 2022       \n",
            "+-----------------------------------------------------------------------------+\n",
            "| NVIDIA-SMI 460.32.03    Driver Version: 460.32.03    CUDA Version: 11.2     |\n",
            "|-------------------------------+----------------------+----------------------+\n",
            "| GPU  Name        Persistence-M| Bus-Id        Disp.A | Volatile Uncorr. ECC |\n",
            "| Fan  Temp  Perf  Pwr:Usage/Cap|         Memory-Usage | GPU-Util  Compute M. |\n",
            "|                               |                      |               MIG M. |\n",
            "|===============================+======================+======================|\n",
            "|   0  Tesla T4            Off  | 00000000:00:04.0 Off |                    0 |\n",
            "| N/A   45C    P8    12W /  70W |      0MiB / 15109MiB |      0%      Default |\n",
            "|                               |                      |                  N/A |\n",
            "+-------------------------------+----------------------+----------------------+\n",
            "                                                                               \n",
            "+-----------------------------------------------------------------------------+\n",
            "| Processes:                                                                  |\n",
            "|  GPU   GI   CI        PID   Type   Process name                  GPU Memory |\n",
            "|        ID   ID                                                   Usage      |\n",
            "|=============================================================================|\n",
            "|  No running processes found                                                 |\n",
            "+-----------------------------------------------------------------------------+\n",
            "Your runtime has 13.6 gigabytes of available RAM\n",
            "\n",
            "Not using a high-RAM runtime\n"
          ]
        }
      ]
    },
    {
      "cell_type": "code",
      "source": [
        "from google.colab import drive\n",
        "drive.mount('/content/drive')"
      ],
      "metadata": {
        "colab": {
          "base_uri": "https://localhost:8080/"
        },
        "id": "GrkzsqhI8fna",
        "outputId": "42b564fb-df3f-43be-d9e5-08c3842b04de"
      },
      "execution_count": null,
      "outputs": [
        {
          "output_type": "stream",
          "name": "stdout",
          "text": [
            "Mounted at /content/drive\n"
          ]
        }
      ]
    },
    {
      "cell_type": "code",
      "source": [
        "!mlflow"
      ],
      "metadata": {
        "colab": {
          "base_uri": "https://localhost:8080/"
        },
        "id": "YrDasdmOM3Q5",
        "outputId": "bd456329-79f5-436d-f822-e0ccfce28f96"
      },
      "execution_count": null,
      "outputs": [
        {
          "output_type": "stream",
          "name": "stdout",
          "text": [
            "Usage: mlflow [OPTIONS] COMMAND [ARGS]...\n",
            "\n",
            "Options:\n",
            "  --version  Show the version and exit.\n",
            "  --help     Show this message and exit.\n",
            "\n",
            "Commands:\n",
            "  artifacts    Upload, list, and download...\n",
            "  azureml      Serve models on Azure ML.\n",
            "  db           Commands for managing an MLflow...\n",
            "  deployments  Deploy MLflow models to custom...\n",
            "  experiments  Manage experiments.\n",
            "  gc           Permanently delete runs in the\n",
            "               `deleted` lifecycle stage.\n",
            "\n",
            "  models       Deploy MLflow models locally.\n",
            "  run          Run an MLflow project from the...\n",
            "  runs         Manage runs.\n",
            "  sagemaker    Serve models on SageMaker.\n",
            "  server       Run the MLflow tracking server.\n",
            "  ui           Launch the MLflow tracking UI\n",
            "               for...\n"
          ]
        }
      ]
    },
    {
      "cell_type": "code",
      "source": [
        "from pyngrok import ngrok\n",
        "ngrok.kill()\n",
        "\n",
        "NGROK_AUTH_TOKEN = \"28yZuvedFcMIsybQZEATgDjFFen_32ZNhDRPnr6UnxJeWhJeZ\"\n",
        "ngrok.set_auth_token(NGROK_AUTH_TOKEN)\n",
        "\n",
        "ngrok_tunnel = ngrok.connect(addr=\"5000\", proto=\"http\", bind_tls=True)\n",
        "print(\"MLflow Tracking UI:\", ngrok_tunnel.public_url)"
      ],
      "metadata": {
        "id": "WGi_f9iGPzhB",
        "colab": {
          "base_uri": "https://localhost:8080/"
        },
        "outputId": "827c06ba-6805-4f68-82ef-94c3c3078b7a"
      },
      "execution_count": null,
      "outputs": [
        {
          "output_type": "stream",
          "name": "stdout",
          "text": [
            "MLflow Tracking UI: https://cc9e-34-141-218-242.ngrok.io\n"
          ]
        }
      ]
    },
    {
      "cell_type": "code",
      "execution_count": null,
      "metadata": {
        "id": "kom0sUXOddWP"
      },
      "outputs": [],
      "source": [
        "import numpy as np\n",
        "import torch\n",
        "import torch.nn as nn\n",
        "import torch.optim as optim\n",
        "import torch.nn.init as init\n",
        "import torchvision.datasets as dset\n",
        "import torchvision.transforms as transforms\n",
        "from torch.utils.data import DataLoader\n",
        "from torch.autograd import Variable\n",
        "import matplotlib.pyplot as plt\n",
        "from torch.optim import lr_scheduler\n",
        "\n",
        "from tqdm import tqdm\n",
        "\n",
        "batch_size = 64\n",
        "learning_rate = 0.002\n",
        "num_epoch = 20\n",
        "device = 'cuda' if torch.cuda.is_available() else 'cpu'"
      ]
    },
    {
      "cell_type": "code",
      "source": [
        "import mlflow\n",
        "import mlflow.sklearn\n",
        "mlflow.set_experiment('ex03')"
      ],
      "metadata": {
        "colab": {
          "base_uri": "https://localhost:8080/"
        },
        "id": "sfj5ImZNM845",
        "outputId": "552af153-68bc-488d-eae5-8e2c75350f86"
      },
      "execution_count": null,
      "outputs": [
        {
          "output_type": "execute_result",
          "data": {
            "text/plain": [
              "<Experiment: artifact_location='file:///content/mlruns/1', experiment_id='1', lifecycle_stage='active', name='ex03', tags={}>"
            ]
          },
          "metadata": {},
          "execution_count": 64
        }
      ]
    },
    {
      "cell_type": "code",
      "source": [
        "def ComputeAccr(dloader, imodel, i):\n",
        "  correct = 0\n",
        "  total = 0\n",
        "\n",
        "  for j, [imgs, labels] in enumerate(dloader) : \n",
        "    img = Variable(imgs, volatile = True).to(device) \n",
        "    label = Variable(labels).to(device)\n",
        "\n",
        "    output = imodel.forward(img)\n",
        "    _, output_index = torch.max(output, 1)\n",
        "\n",
        "    total += label.size(0)\n",
        "    correct += (output_index == label).sum().float()\n",
        "\n",
        "  acc = 100*correct/total\n",
        "  acc = float(acc.cpu().numpy())\n",
        "  print(\"%dth Accuracy of Test Data: {}\".format(acc) %i)\n",
        "  return acc"
      ],
      "metadata": {
        "id": "5RPJ-vWhimFd"
      },
      "execution_count": null,
      "outputs": []
    },
    {
      "cell_type": "code",
      "source": [
        "cifar_train=dset.CIFAR10('CIFAR10/', train=True,\n",
        "                         transform=transforms.Compose([\n",
        "                          transforms.Resize(32),\n",
        "                          #transforms.CenterCrop(32),\n",
        "                          transforms.RandomHorizontalFlip(),\n",
        "                          #transforms.RandomRotation(10),\n",
        "                          transforms.ToTensor(),\n",
        "                          transforms.Normalize(mean= (0.5, 0.5, 0.5),\n",
        "                                               std=(0.5, 0.5, 0.5)),\n",
        "                         ]),\n",
        "                         target_transform=None, download=True)\n",
        "\n",
        "cifar_test=dset.CIFAR10('CIFAR10/', train=False,\n",
        "                         transform=transforms.Compose([\n",
        "                          transforms.ToTensor(),\n",
        "                          transforms.Normalize(mean= (0.5, 0.5, 0.5),\n",
        "                                               std=(0.5, 0.5, 0.5)),\n",
        "                         ]),\n",
        "                         target_transform=None, download=True)"
      ],
      "metadata": {
        "colab": {
          "base_uri": "https://localhost:8080/"
        },
        "id": "lIZ2a5xOdlwD",
        "outputId": "052488d4-7553-4c41-cab4-f047bcbd7713"
      },
      "execution_count": null,
      "outputs": [
        {
          "output_type": "stream",
          "name": "stdout",
          "text": [
            "Files already downloaded and verified\n",
            "Files already downloaded and verified\n"
          ]
        }
      ]
    },
    {
      "cell_type": "code",
      "source": [
        "train_loader = torch.utils.data.DataLoader(list(cifar_train)[:], \n",
        "                                           batch_size = batch_size, \n",
        "                                           shuffle = True,\n",
        "                                           num_workers=2, \n",
        "                                           drop_last = True)\n",
        "test_loader = torch.utils.data.DataLoader(cifar_test, \n",
        "                                          batch_size = batch_size, \n",
        "                                          shuffle = False,\n",
        "                                          num_workers=2, \n",
        "                                          drop_last = True)\n"
      ],
      "metadata": {
        "id": "GeQyjNNNdqNG"
      },
      "execution_count": null,
      "outputs": []
    },
    {
      "cell_type": "code",
      "source": [
        "from torch.nn.modules.dropout import Dropout2d\n",
        "from torch.nn.modules.pooling import MaxPool2d\n",
        "from torch.nn.modules.conv import Conv2d\n",
        "\n",
        "\n",
        "# ===== 4. 모델 선언 =====\n",
        "class CNN(nn.Module) :\n",
        "  def __init__(self) :\n",
        "    super(CNN, self).__init__()\n",
        "    self.layer = nn.Sequential(\n",
        "        nn.Conv2d(3, 8, 3, padding=1),\n",
        "        nn.ReLU(),\n",
        "        #nn.Dropout2d(0.2),\n",
        "        nn.BatchNorm2d(8),\n",
        "\n",
        "        nn.Conv2d(8, 32, 3, padding=1),\n",
        "        nn.ReLU(),\n",
        "        #nn.Dropout2d(0.2),\n",
        "        nn.BatchNorm2d(32),\n",
        "        nn.MaxPool2d(2, 2),\n",
        "\n",
        "        nn.Conv2d(32, 64, 3, padding=1),\n",
        "        nn.ReLU(),\n",
        "        nn.Dropout2d(0.2),\n",
        "        nn.BatchNorm2d(64),\n",
        "        nn.MaxPool2d(2, 2),\n",
        "    )\n",
        "\n",
        "    self.fc_layer=nn.Sequential(\n",
        "        nn.Linear(64 * 8 * 8, 100),\n",
        "        nn.ReLU(),\n",
        "        nn.Dropout2d(p=0.2),\n",
        "        nn.BatchNorm1d(1500),\n",
        "        nn.Linear(1500, 10),\n",
        "    )\n",
        "    \n",
        "    for m in self.modules():\n",
        "      if isinstance(m, nn.Conv2d):\n",
        "          init.kaiming_normal_(m.weight.data) \n",
        "          m.bias.data.fill_(0)\n",
        "      if isinstance(m, nn.Linear):\n",
        "          init.kaiming_normal_(m.weight.data)\n",
        "          m.bias.data.fill_(0)\n",
        "\n",
        "\n",
        "  def forward(self, x):\n",
        "    out = self.layer(x)\n",
        "    out = out.view(batch_size, -1)\n",
        "    out = self.fc_layer(out)\n",
        "\n",
        "    return out"
      ],
      "metadata": {
        "id": "zXSBxWUWdeyo"
      },
      "execution_count": null,
      "outputs": []
    },
    {
      "cell_type": "code",
      "source": [
        "from torch.utils.tensorboard import SummaryWriter\n",
        "\n",
        "def my_train(i_num_epoch, i_learning_rate) :\n",
        "  loss_arr = []\n",
        "  mlflow.end_run()\n",
        "  with mlflow.start_run() :\n",
        "    net_name = '/content/drive/MyDrive/Colab Notebooks/weights/best_weights7.pkl'\n",
        "\n",
        "    model = torch.load(net_name)\n",
        "    #model = CNN().to(device)\n",
        "    loss_func = nn.CrossEntropyLoss().to(device)\n",
        "    optimizer=torch.optim.Adam(model.parameters(), lr=learning_rate)\n",
        "    #scheduler = lr_scheduler.StepLR(optimizer, step_size=20, gamma=0.2)\n",
        "    #scheduler = lr_scheduler.CosineAnnealingLR(optimizer, T_max=50, eta_min=1e-4)\n",
        "    scheduler = lr_scheduler.CosineAnnealingWarmRestarts(optimizer, T_0=10, T_mult=1, eta_min=1e-4)\n",
        "    max_acc = 0\n",
        "\n",
        "\n",
        "    with SummaryWriter('runs') as writer :\n",
        "      for i in range(i_num_epoch) :\n",
        "        model = model.train()\n",
        "\n",
        "        for j, [image, label] in enumerate(train_loader):\n",
        "          x=Variable(image).to(device)\n",
        "          y_=Variable(label).to(device)\n",
        "\n",
        "          optimizer.zero_grad()\n",
        "          output=model.forward(x)\n",
        "          loss=loss_func(output,y_)\n",
        "          loss.backward()\n",
        "          optimizer.step()\n",
        "          scheduler.step()\n",
        "\n",
        "          if j%1000==0:\n",
        "            print(j, loss)\n",
        "            loss_arr.append(loss.cpu().detach().numpy())\n",
        "            \n",
        "        model.eval()    \n",
        "        acc = ComputeAccr(test_loader, model, i)\n",
        "        writer.add_scalar('accuracy', acc, i_num_epoch)\n",
        "\n",
        "        if acc > max_acc :\n",
        "          print(\"best acc updated:\",acc)\n",
        "          max_acc = acc\n",
        "          torch.save(model, net_name)\n",
        "\n",
        "      plt.plot(loss_arr)\n",
        "      plt.show()\n",
        "      print(max_acc)\n",
        "\n",
        "      mlflow.log_param(\"epoch\", i_num_epoch)\n",
        "      mlflow.log_param(\"lr\", i_learning_rate)\n",
        "      mlflow.log_metric(\"accr\", max_acc)\n",
        "      mlflow.sklearn.log_model(model, \"model\")"
      ],
      "metadata": {
        "id": "163oe8z_Nr9e"
      },
      "execution_count": null,
      "outputs": []
    },
    {
      "cell_type": "code",
      "source": [
        "my_train(i_num_epoch=num_epoch, i_learning_rate=learning_rate)"
      ],
      "metadata": {
        "colab": {
          "base_uri": "https://localhost:8080/",
          "height": 1000
        },
        "id": "urN6KG25M9s0",
        "outputId": "49e8bf7d-059c-43c7-fd27-12561c92ad04"
      },
      "execution_count": null,
      "outputs": [
        {
          "output_type": "stream",
          "name": "stderr",
          "text": [
            "/usr/local/lib/python3.7/dist-packages/torch/nn/functional.py:1320: UserWarning: dropout2d: Received a 2-D input to dropout2d, which is deprecated and will result in an error in a future release. To retain the behavior and silence this warning, please use dropout instead. Note that dropout2d exists to provide channel-wise dropout on inputs with 2 spatial dimensions, a channel dimension, and an optional batch dimension (i.e. 3D or 4D inputs).\n",
            "  warnings.warn(warn_msg)\n"
          ]
        },
        {
          "output_type": "stream",
          "name": "stdout",
          "text": [
            "0 tensor(0.9719, device='cuda:0', grad_fn=<NllLossBackward0>)\n"
          ]
        },
        {
          "output_type": "stream",
          "name": "stderr",
          "text": [
            "/usr/local/lib/python3.7/dist-packages/ipykernel_launcher.py:6: UserWarning: volatile was removed and now has no effect. Use `with torch.no_grad():` instead.\n",
            "  \n"
          ]
        },
        {
          "output_type": "stream",
          "name": "stdout",
          "text": [
            "0th Accuracy of Test Data: 80.04808044433594\n",
            "best acc updated: 80.04808044433594\n",
            "0 tensor(1.0656, device='cuda:0', grad_fn=<NllLossBackward0>)\n",
            "1th Accuracy of Test Data: 80.28845977783203\n",
            "best acc updated: 80.28845977783203\n",
            "0 tensor(0.4873, device='cuda:0', grad_fn=<NllLossBackward0>)\n",
            "2th Accuracy of Test Data: 80.4286880493164\n",
            "best acc updated: 80.4286880493164\n",
            "0 tensor(0.3198, device='cuda:0', grad_fn=<NllLossBackward0>)\n",
            "3th Accuracy of Test Data: 80.59896087646484\n",
            "best acc updated: 80.59896087646484\n",
            "0 tensor(0.4095, device='cuda:0', grad_fn=<NllLossBackward0>)\n",
            "4th Accuracy of Test Data: 80.45873260498047\n",
            "0 tensor(0.4847, device='cuda:0', grad_fn=<NllLossBackward0>)\n",
            "5th Accuracy of Test Data: 80.28845977783203\n",
            "0 tensor(0.5823, device='cuda:0', grad_fn=<NllLossBackward0>)\n",
            "6th Accuracy of Test Data: 80.29847717285156\n",
            "0 tensor(0.5739, device='cuda:0', grad_fn=<NllLossBackward0>)\n",
            "7th Accuracy of Test Data: 79.86779022216797\n",
            "0 tensor(0.6097, device='cuda:0', grad_fn=<NllLossBackward0>)\n",
            "8th Accuracy of Test Data: 80.04808044433594\n",
            "0 tensor(0.4705, device='cuda:0', grad_fn=<NllLossBackward0>)\n",
            "9th Accuracy of Test Data: 80.20833587646484\n",
            "0 tensor(0.5435, device='cuda:0', grad_fn=<NllLossBackward0>)\n",
            "10th Accuracy of Test Data: 80.12820434570312\n",
            "0 tensor(0.4344, device='cuda:0', grad_fn=<NllLossBackward0>)\n",
            "11th Accuracy of Test Data: 80.2684326171875\n",
            "0 tensor(0.3268, device='cuda:0', grad_fn=<NllLossBackward0>)\n",
            "12th Accuracy of Test Data: 79.98798370361328\n",
            "0 tensor(0.2652, device='cuda:0', grad_fn=<NllLossBackward0>)\n",
            "13th Accuracy of Test Data: 80.06810760498047\n",
            "0 tensor(0.2287, device='cuda:0', grad_fn=<NllLossBackward0>)\n",
            "14th Accuracy of Test Data: 79.66746520996094\n",
            "0 tensor(0.5883, device='cuda:0', grad_fn=<NllLossBackward0>)\n",
            "15th Accuracy of Test Data: 79.96794891357422\n",
            "0 tensor(0.3867, device='cuda:0', grad_fn=<NllLossBackward0>)\n",
            "16th Accuracy of Test Data: 80.13822174072266\n",
            "0 tensor(0.4253, device='cuda:0', grad_fn=<NllLossBackward0>)\n",
            "17th Accuracy of Test Data: 80.21835327148438\n",
            "0 tensor(0.5624, device='cuda:0', grad_fn=<NllLossBackward0>)\n",
            "18th Accuracy of Test Data: 79.88782501220703\n",
            "0 tensor(0.7392, device='cuda:0', grad_fn=<NllLossBackward0>)\n",
            "19th Accuracy of Test Data: 79.96794891357422\n"
          ]
        },
        {
          "output_type": "display_data",
          "data": {
            "text/plain": [
              "<Figure size 432x288 with 1 Axes>"
            ],
            "image/png": "[encoded data removed]"
          },
          "metadata": {
            "needs_background": "light"
          }
        },
        {
          "output_type": "stream",
          "name": "stdout",
          "text": [
            "80.59896087646484\n"
          ]
        },
        {
          "output_type": "stream",
          "name": "stderr",
          "text": [
            "2022/05/20 12:06:02 WARNING mlflow.utils.requirements_utils: Found torch version (1.11.0+cu113) contains a local version label (+cu113). MLflow logged a pip requirement for this package as 'torch==1.11.0' without the local version label to make it installable from PyPI. To specify pip requirements containing local version labels, please use `conda_env` or `pip_requirements`.\n"
          ]
        }
      ]
    },
    {
      "cell_type": "code",
      "source": [
        "!mlflow ui"
      ],
      "metadata": {
        "id": "rYJfg8SFRs8h",
        "colab": {
          "base_uri": "https://localhost:8080/"
        },
        "outputId": "aec06104-965b-43b8-ac75-e845612b7b65"
      },
      "execution_count": null,
      "outputs": [
        {
          "output_type": "stream",
          "name": "stdout",
          "text": [
            "[2022-05-20 12:07:49 +0000] [5775] [INFO] Starting gunicorn 20.1.0\n",
            "[2022-05-20 12:07:49 +0000] [5775] [INFO] Listening at: http://127.0.0.1:5000 (5775)\n",
            "[2022-05-20 12:07:49 +0000] [5775] [INFO] Using worker: sync\n",
            "[2022-05-20 12:07:49 +0000] [5778] [INFO] Booting worker with pid: 5778\n",
            "\n",
            "Aborted!\n",
            "[2022-05-20 12:08:56 +0000] [5775] [INFO] Handling signal: int\n",
            "[2022-05-20 12:08:56 +0000] [5778] [INFO] Worker exiting (pid: 5778)\n",
            "[2022-05-20 12:08:56 +0000] [5775] [INFO] Shutting down: Master\n"
          ]
        }
      ]
    },
    {
      "cell_type": "code",
      "source": [
        "net_name = '/content/drive/MyDrive/Colab Notebooks/weights/best_weights1.pkl'\n",
        "model = torch.load(net_name)\n",
        "model.eval()    \n",
        "acc = ComputeAccr(test_loader, model, 1)"
      ],
      "metadata": {
        "colab": {
          "base_uri": "https://localhost:8080/"
        },
        "id": "MN3UGPtwfjii",
        "outputId": "d7444801-d630-4391-cc91-3ad91a5ee06a"
      },
      "execution_count": null,
      "outputs": [
        {
          "output_type": "stream",
          "name": "stderr",
          "text": [
            "/usr/local/lib/python3.7/dist-packages/ipykernel_launcher.py:6: UserWarning: volatile was removed and now has no effect. Use `with torch.no_grad():` instead.\n",
            "  \n",
            "/usr/local/lib/python3.7/dist-packages/torch/nn/functional.py:1320: UserWarning: dropout2d: Received a 2-D input to dropout2d, which is deprecated and will result in an error in a future release. To retain the behavior and silence this warning, please use dropout instead. Note that dropout2d exists to provide channel-wise dropout on inputs with 2 spatial dimensions, a channel dimension, and an optional batch dimension (i.e. 3D or 4D inputs).\n",
            "  warnings.warn(warn_msg)\n"
          ]
        },
        {
          "output_type": "stream",
          "name": "stdout",
          "text": [
            "1th Accuracy of Test Data: 41.04567337036133\n"
          ]
        }
      ]
    },
    {
      "cell_type": "code",
      "source": [
        ""
      ],
      "metadata": {
        "id": "Y3z9K0JYic6n"
      },
      "execution_count": null,
      "outputs": []
    }
  ]
}
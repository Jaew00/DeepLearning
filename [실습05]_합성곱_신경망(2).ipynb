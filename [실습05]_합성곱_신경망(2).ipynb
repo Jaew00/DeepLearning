{
  "nbformat": 4,
  "nbformat_minor": 0,
  "metadata": {
    "colab": {
      "name": "[실습05] 합성곱 신경망(2).ipynb",
      "provenance": [],
      "collapsed_sections": [],
      "authorship_tag": "ABX9TyMLR0EY7MbyGflnS/gFP97p",
      "include_colab_link": true
    },
    "kernelspec": {
      "name": "python3",
      "display_name": "Python 3"
    },
    "language_info": {
      "name": "python"
    },
    "accelerator": "GPU"
  },
  "cells": [
    {
      "cell_type": "markdown",
      "metadata": {
        "id": "view-in-github",
        "colab_type": "text"
      },
      "source": [
        "<a href=\"https://colab.research.google.com/github/Jaew00/DeepLearning/blob/main/%5B%EC%8B%A4%EC%8A%B505%5D_%ED%95%A9%EC%84%B1%EA%B3%B1_%EC%8B%A0%EA%B2%BD%EB%A7%9D(2).ipynb\" target=\"_parent\"><img src=\"https://colab.research.google.com/assets/colab-badge.svg\" alt=\"Open In Colab\"/></a>"
      ]
    },
    {
      "cell_type": "markdown",
      "source": [
        "1. Settings\n",
        "\n",
        "> 1) Important required libraries\n",
        "\n",
        "\n"
      ],
      "metadata": {
        "id": "TEYOs2Wnb4FI"
      }
    },
    {
      "cell_type": "code",
      "execution_count": 3,
      "metadata": {
        "id": "N8DgRoZTbeIh"
      },
      "outputs": [],
      "source": [
        "import numpy as np\n",
        "import torch\n",
        "import torch.nn as nn\n",
        "import torch.optim as optim\n",
        "import torch.nn.init as init\n",
        "import torch.utils.data as data\n",
        "import torchvision.datasets as dset\n",
        "import torchvision.models as models\n",
        "import torchvision.transforms as transforms\n",
        "from torch.utils.data import DataLoader\n",
        "from torch.autograd import Variable\n",
        "import time\n",
        "import matplotlib.pyplot as plt\n",
        "import utils\n",
        "%matplotlib inline"
      ]
    },
    {
      "cell_type": "markdown",
      "source": [
        "2) Hyperparameter"
      ],
      "metadata": {
        "id": "1uIZcF-HcG2I"
      }
    },
    {
      "cell_type": "code",
      "source": [
        "batch_size = 16\n",
        "learning_rate = 0.0001\n",
        "epoch = 20\n",
        "\n",
        "n_node = 1024\n",
        "dropratio = 0.5\n",
        "imgsize = 256"
      ],
      "metadata": {
        "id": "3cU4qzc2b3fM"
      },
      "execution_count": 4,
      "outputs": []
    },
    {
      "cell_type": "markdown",
      "source": [
        "2. Data Loader"
      ],
      "metadata": {
        "id": "VkL1jrtacSXc"
      }
    },
    {
      "cell_type": "markdown",
      "source": [
        "트레이닝 데이터"
      ],
      "metadata": {
        "id": "YZFRRzq0d-cq"
      }
    },
    {
      "cell_type": "code",
      "source": [
        "from google.colab import drive\n",
        "drive.mount('/content/drive')"
      ],
      "metadata": {
        "colab": {
          "base_uri": "https://localhost:8080/"
        },
        "id": "iR6plPQjdSjP",
        "outputId": "70334df0-11d5-49fb-b311-2c2649f257c8"
      },
      "execution_count": 5,
      "outputs": [
        {
          "output_type": "stream",
          "name": "stdout",
          "text": [
            "Mounted at /content/drive\n"
          ]
        }
      ]
    },
    {
      "cell_type": "code",
      "source": [
        "img_dir = \"/content/drive/MyDrive/학교 수업 자료/18. 심층학습/12주차/animal+utils/animal/train\"\n",
        "train_data = dset.ImageFolder(img_dir, transforms.Compose([\n",
        "              transforms.CenterCrop(imgsize*2),\n",
        "              transforms.RandomCrop(imgsize),\n",
        "              transforms.RandomHorizontalFlip(),\n",
        "              transforms.Resize(imgsize),\n",
        "              transforms.ToTensor()\n",
        "              ]))\n",
        "print(train_data.__len__())\n",
        "\n",
        "train_batch = data.DataLoader(train_data, batch_size = batch_size,\n",
        "                              shuffle = True, num_workers=2)"
      ],
      "metadata": {
        "colab": {
          "base_uri": "https://localhost:8080/"
        },
        "id": "Ra6cSbHicRLx",
        "outputId": "be888abc-b3ce-4f2f-e8a8-b95407678aa3"
      },
      "execution_count": 73,
      "outputs": [
        {
          "output_type": "stream",
          "name": "stdout",
          "text": [
            "46\n"
          ]
        }
      ]
    },
    {
      "cell_type": "markdown",
      "source": [
        "고정된 데이터 셋"
      ],
      "metadata": {
        "id": "KrfLryxReAfE"
      }
    },
    {
      "cell_type": "code",
      "source": [
        "# 2. Dev data\n",
        "img_dir = \"/content/drive/MyDrive/학교 수업 자료/18. 심층학습/12주차/animal+utils/animal/val\"\n",
        "dev_data = dset.ImageFolder(img_dir, transforms.Compose([\n",
        "              #transforms.Scale(256),\n",
        "              #transform.RandomSizedCrop(224),                                           \n",
        "              transforms.CenterCrop(imgsize),\n",
        "\n",
        "              transforms.Resize(imgsize),\n",
        "              transforms.ToTensor()\n",
        "              ]))\n",
        "\n",
        "\n",
        "dev_batch = data.DataLoader(dev_data, batch_size = batch_size,\n",
        "                              shuffle = False, num_workers=2)"
      ],
      "metadata": {
        "id": "0AgOJyu5dJx-"
      },
      "execution_count": 74,
      "outputs": []
    },
    {
      "cell_type": "code",
      "source": [
        "# Test data\n",
        "img_dir = \"/content/drive/MyDrive/학교 수업 자료/18. 심층학습/12주차/animal+utils/animal/test\"\n",
        "test_data = dset.ImageFolder(img_dir, transforms.Compose([\n",
        "              #transforms.Scale(256),\n",
        "              #transform.RandomSizedCrop(224),                                           \n",
        "              transforms.CenterCrop(imgsize),\n",
        "\n",
        "              transforms.Resize(imgsize),\n",
        "              transforms.ToTensor()\n",
        "              ]))\n",
        "\n",
        "\n",
        "test_batch = data.DataLoader(test_data, batch_size = batch_size,\n",
        "                              shuffle = False, num_workers=2)"
      ],
      "metadata": {
        "id": "ZwbqL6SxefeI"
      },
      "execution_count": 75,
      "outputs": []
    },
    {
      "cell_type": "code",
      "source": [
        "nclass = len(train_data.classes)\n",
        "print(\"# of classes: %d\" %nclass)\n",
        "print(train_data.classes)\n",
        "print(train_data.class_to_idx)\n",
        "print(train_data.__len__())\n",
        "\n",
        "print(\"Training: %d, Dev: %d, Test: %d\" %(train_data.__len__(), dev_data.__len__(),test_data.__len__()))"
      ],
      "metadata": {
        "colab": {
          "base_uri": "https://localhost:8080/"
        },
        "id": "fEgYbbFGe--u",
        "outputId": "f2f989d8-08e9-4fe7-8977-1e6531a91522"
      },
      "execution_count": 76,
      "outputs": [
        {
          "output_type": "stream",
          "name": "stdout",
          "text": [
            "# of classes: 2\n",
            "['cats', 'dogs']\n",
            "{'cats': 0, 'dogs': 1}\n",
            "46\n",
            "Training: 46, Dev: 17, Test: 41\n"
          ]
        }
      ]
    },
    {
      "cell_type": "code",
      "source": [
        "print(train_data.classes)\n",
        "print(dev_data.classes)\n",
        "print(test_data.classes)"
      ],
      "metadata": {
        "colab": {
          "base_uri": "https://localhost:8080/"
        },
        "id": "j-uBrLSof-Ig",
        "outputId": "8c36023e-e095-4090-bd5a-dcf8dfb31c58"
      },
      "execution_count": 77,
      "outputs": [
        {
          "output_type": "stream",
          "name": "stdout",
          "text": [
            "['cats', 'dogs']\n",
            "['cats', 'dogs']\n",
            "['cats', 'dogs']\n"
          ]
        }
      ]
    },
    {
      "cell_type": "markdown",
      "source": [
        "3. Model\n",
        "\n",
        "\n",
        "> 1) Pretrained VGG Model\n",
        "\n"
      ],
      "metadata": {
        "id": "h00SCLeQgKGl"
      }
    },
    {
      "cell_type": "code",
      "source": [
        "vgg = models.vgg19(pretrained=True)\n",
        "\n",
        "for name, module in vgg.named_children() :\n",
        "  print(name)\n",
        "\n",
        "print(list(vgg.children())[0])\n",
        "print(list(vgg.children())[-1])\n",
        "print(list(vgg.children())[0][0])"
      ],
      "metadata": {
        "colab": {
          "base_uri": "https://localhost:8080/"
        },
        "id": "Pnq294j1gGyc",
        "outputId": "d757c84b-18fa-4d75-e9e2-9932e6e839e7"
      },
      "execution_count": 78,
      "outputs": [
        {
          "output_type": "stream",
          "name": "stdout",
          "text": [
            "features\n",
            "avgpool\n",
            "classifier\n",
            "Sequential(\n",
            "  (0): Conv2d(3, 64, kernel_size=(3, 3), stride=(1, 1), padding=(1, 1))\n",
            "  (1): ReLU(inplace=True)\n",
            "  (2): Conv2d(64, 64, kernel_size=(3, 3), stride=(1, 1), padding=(1, 1))\n",
            "  (3): ReLU(inplace=True)\n",
            "  (4): MaxPool2d(kernel_size=2, stride=2, padding=0, dilation=1, ceil_mode=False)\n",
            "  (5): Conv2d(64, 128, kernel_size=(3, 3), stride=(1, 1), padding=(1, 1))\n",
            "  (6): ReLU(inplace=True)\n",
            "  (7): Conv2d(128, 128, kernel_size=(3, 3), stride=(1, 1), padding=(1, 1))\n",
            "  (8): ReLU(inplace=True)\n",
            "  (9): MaxPool2d(kernel_size=2, stride=2, padding=0, dilation=1, ceil_mode=False)\n",
            "  (10): Conv2d(128, 256, kernel_size=(3, 3), stride=(1, 1), padding=(1, 1))\n",
            "  (11): ReLU(inplace=True)\n",
            "  (12): Conv2d(256, 256, kernel_size=(3, 3), stride=(1, 1), padding=(1, 1))\n",
            "  (13): ReLU(inplace=True)\n",
            "  (14): Conv2d(256, 256, kernel_size=(3, 3), stride=(1, 1), padding=(1, 1))\n",
            "  (15): ReLU(inplace=True)\n",
            "  (16): Conv2d(256, 256, kernel_size=(3, 3), stride=(1, 1), padding=(1, 1))\n",
            "  (17): ReLU(inplace=True)\n",
            "  (18): MaxPool2d(kernel_size=2, stride=2, padding=0, dilation=1, ceil_mode=False)\n",
            "  (19): Conv2d(256, 512, kernel_size=(3, 3), stride=(1, 1), padding=(1, 1))\n",
            "  (20): ReLU(inplace=True)\n",
            "  (21): Conv2d(512, 512, kernel_size=(3, 3), stride=(1, 1), padding=(1, 1))\n",
            "  (22): ReLU(inplace=True)\n",
            "  (23): Conv2d(512, 512, kernel_size=(3, 3), stride=(1, 1), padding=(1, 1))\n",
            "  (24): ReLU(inplace=True)\n",
            "  (25): Conv2d(512, 512, kernel_size=(3, 3), stride=(1, 1), padding=(1, 1))\n",
            "  (26): ReLU(inplace=True)\n",
            "  (27): MaxPool2d(kernel_size=2, stride=2, padding=0, dilation=1, ceil_mode=False)\n",
            "  (28): Conv2d(512, 512, kernel_size=(3, 3), stride=(1, 1), padding=(1, 1))\n",
            "  (29): ReLU(inplace=True)\n",
            "  (30): Conv2d(512, 512, kernel_size=(3, 3), stride=(1, 1), padding=(1, 1))\n",
            "  (31): ReLU(inplace=True)\n",
            "  (32): Conv2d(512, 512, kernel_size=(3, 3), stride=(1, 1), padding=(1, 1))\n",
            "  (33): ReLU(inplace=True)\n",
            "  (34): Conv2d(512, 512, kernel_size=(3, 3), stride=(1, 1), padding=(1, 1))\n",
            "  (35): ReLU(inplace=True)\n",
            "  (36): MaxPool2d(kernel_size=2, stride=2, padding=0, dilation=1, ceil_mode=False)\n",
            ")\n",
            "Sequential(\n",
            "  (0): Linear(in_features=25088, out_features=4096, bias=True)\n",
            "  (1): ReLU(inplace=True)\n",
            "  (2): Dropout(p=0.5, inplace=False)\n",
            "  (3): Linear(in_features=4096, out_features=4096, bias=True)\n",
            "  (4): ReLU(inplace=True)\n",
            "  (5): Dropout(p=0.5, inplace=False)\n",
            "  (6): Linear(in_features=4096, out_features=1000, bias=True)\n",
            ")\n",
            "Conv2d(3, 64, kernel_size=(3, 3), stride=(1, 1), padding=(1, 1))\n"
          ]
        }
      ]
    },
    {
      "cell_type": "markdown",
      "source": [
        "2) Customized Fully Model"
      ],
      "metadata": {
        "id": "3yryacZdgpvK"
      }
    },
    {
      "cell_type": "code",
      "source": [
        "base_dim = 64\n",
        "fsize = int(imgsize/32)\n",
        "\n",
        "class MyVGG(nn.Module) :\n",
        "  def __init__(self) :\n",
        "    super(MyVGG, self).__init__()\n",
        "    self.layer0 = nn.Sequential(*list(vgg.children())[0])\n",
        "\n",
        "    self.layer1 = nn.Sequential(\n",
        "        nn.Linear(8 * base_dim * fsize * fsize, n_node),\n",
        "        nn.BatchNorm1d(n_node),\n",
        "        nn.ReLU(),\n",
        "        nn.Dropout2d(dropratio),\n",
        "\n",
        "        nn.Linear(n_node, n_node),\n",
        "        nn.BatchNorm1d(n_node),\n",
        "        nn.ReLU(),\n",
        "        nn.Dropout2d(dropratio),\n",
        "\n",
        "        nn.Linear(n_node, n_node),\n",
        "        nn.BatchNorm1d(n_node),\n",
        "        nn.ReLU(),\n",
        "        nn.Dropout2d(dropratio),\n",
        "\n",
        "        nn.Linear(n_node, nclass),   \n",
        "    )\n",
        "    for m in self.layer1.modules() :\n",
        "      if isinstance(m, nn.Conv2d) :\n",
        "        init.kaiming_normal(m.weight.data)\n",
        "        m.bias.data.fill_(0)\n",
        "      if isinstance(m, nn.Linear) :\n",
        "        init.kaiming_normal(m.weight.data)\n",
        "        m.bias.data.fill_(0)\n",
        "\n",
        "  def forward(self, x) :\n",
        "    out = self.layer0(x),\n",
        "    out = out.view(out.size(0), -1),\n",
        "    out = self.layer1(out)\n",
        "    return out"
      ],
      "metadata": {
        "id": "wcR-n2CygiSx"
      },
      "execution_count": 88,
      "outputs": []
    },
    {
      "cell_type": "markdown",
      "source": [
        "3) Model on GPU"
      ],
      "metadata": {
        "id": "Kpixk7dWiH5X"
      }
    },
    {
      "cell_type": "code",
      "source": [
        "model = MyVGG().cuda()\n",
        "\n",
        "for params in model.layer0.parameters() :\n",
        "  params.required_grad = False\n",
        "\n",
        "for params in model.layer1.parameters() :\n",
        "  params.required_grad = True\n",
        "\n",
        "for name in model.children() :\n",
        "  print(name)"
      ],
      "metadata": {
        "colab": {
          "base_uri": "https://localhost:8080/"
        },
        "id": "DwcQsJmWiGj8",
        "outputId": "0ead8f6c-5d83-492b-a5eb-8ca171346900"
      },
      "execution_count": 89,
      "outputs": [
        {
          "output_type": "stream",
          "name": "stderr",
          "text": [
            "/usr/local/lib/python3.7/dist-packages/ipykernel_launcher.py:32: UserWarning: nn.init.kaiming_normal is now deprecated in favor of nn.init.kaiming_normal_.\n"
          ]
        },
        {
          "output_type": "stream",
          "name": "stdout",
          "text": [
            "Sequential(\n",
            "  (0): Conv2d(3, 64, kernel_size=(3, 3), stride=(1, 1), padding=(1, 1))\n",
            "  (1): ReLU(inplace=True)\n",
            "  (2): Conv2d(64, 64, kernel_size=(3, 3), stride=(1, 1), padding=(1, 1))\n",
            "  (3): ReLU(inplace=True)\n",
            "  (4): MaxPool2d(kernel_size=2, stride=2, padding=0, dilation=1, ceil_mode=False)\n",
            "  (5): Conv2d(64, 128, kernel_size=(3, 3), stride=(1, 1), padding=(1, 1))\n",
            "  (6): ReLU(inplace=True)\n",
            "  (7): Conv2d(128, 128, kernel_size=(3, 3), stride=(1, 1), padding=(1, 1))\n",
            "  (8): ReLU(inplace=True)\n",
            "  (9): MaxPool2d(kernel_size=2, stride=2, padding=0, dilation=1, ceil_mode=False)\n",
            "  (10): Conv2d(128, 256, kernel_size=(3, 3), stride=(1, 1), padding=(1, 1))\n",
            "  (11): ReLU(inplace=True)\n",
            "  (12): Conv2d(256, 256, kernel_size=(3, 3), stride=(1, 1), padding=(1, 1))\n",
            "  (13): ReLU(inplace=True)\n",
            "  (14): Conv2d(256, 256, kernel_size=(3, 3), stride=(1, 1), padding=(1, 1))\n",
            "  (15): ReLU(inplace=True)\n",
            "  (16): Conv2d(256, 256, kernel_size=(3, 3), stride=(1, 1), padding=(1, 1))\n",
            "  (17): ReLU(inplace=True)\n",
            "  (18): MaxPool2d(kernel_size=2, stride=2, padding=0, dilation=1, ceil_mode=False)\n",
            "  (19): Conv2d(256, 512, kernel_size=(3, 3), stride=(1, 1), padding=(1, 1))\n",
            "  (20): ReLU(inplace=True)\n",
            "  (21): Conv2d(512, 512, kernel_size=(3, 3), stride=(1, 1), padding=(1, 1))\n",
            "  (22): ReLU(inplace=True)\n",
            "  (23): Conv2d(512, 512, kernel_size=(3, 3), stride=(1, 1), padding=(1, 1))\n",
            "  (24): ReLU(inplace=True)\n",
            "  (25): Conv2d(512, 512, kernel_size=(3, 3), stride=(1, 1), padding=(1, 1))\n",
            "  (26): ReLU(inplace=True)\n",
            "  (27): MaxPool2d(kernel_size=2, stride=2, padding=0, dilation=1, ceil_mode=False)\n",
            "  (28): Conv2d(512, 512, kernel_size=(3, 3), stride=(1, 1), padding=(1, 1))\n",
            "  (29): ReLU(inplace=True)\n",
            "  (30): Conv2d(512, 512, kernel_size=(3, 3), stride=(1, 1), padding=(1, 1))\n",
            "  (31): ReLU(inplace=True)\n",
            "  (32): Conv2d(512, 512, kernel_size=(3, 3), stride=(1, 1), padding=(1, 1))\n",
            "  (33): ReLU(inplace=True)\n",
            "  (34): Conv2d(512, 512, kernel_size=(3, 3), stride=(1, 1), padding=(1, 1))\n",
            "  (35): ReLU(inplace=True)\n",
            "  (36): MaxPool2d(kernel_size=2, stride=2, padding=0, dilation=1, ceil_mode=False)\n",
            ")\n",
            "Sequential(\n",
            "  (0): Linear(in_features=32768, out_features=1024, bias=True)\n",
            "  (1): BatchNorm1d(1024, eps=1e-05, momentum=0.1, affine=True, track_running_stats=True)\n",
            "  (2): ReLU()\n",
            "  (3): Dropout2d(p=0.5, inplace=False)\n",
            "  (4): Linear(in_features=1024, out_features=1024, bias=True)\n",
            "  (5): BatchNorm1d(1024, eps=1e-05, momentum=0.1, affine=True, track_running_stats=True)\n",
            "  (6): ReLU()\n",
            "  (7): Dropout2d(p=0.5, inplace=False)\n",
            "  (8): Linear(in_features=1024, out_features=1024, bias=True)\n",
            "  (9): BatchNorm1d(1024, eps=1e-05, momentum=0.1, affine=True, track_running_stats=True)\n",
            "  (10): ReLU()\n",
            "  (11): Dropout2d(p=0.5, inplace=False)\n",
            "  (12): Linear(in_features=1024, out_features=2, bias=True)\n",
            ")\n"
          ]
        }
      ]
    },
    {
      "cell_type": "markdown",
      "source": [
        "4. Optimizer & Loss"
      ],
      "metadata": {
        "id": "EeMXHH3Kiq9w"
      }
    },
    {
      "cell_type": "code",
      "source": [
        "loss_func = nn.CrossEntropyLoss()\n",
        "optimizer = optim.Adam(model.layer1.parameters(), lr=learning_rate)\n",
        "\n",
        "# import itertools\n",
        "#optimizer = optim.Adam(itertool.chain(model.layer1.parameters(), model.layer2.parameters()), lr=learning_rate)"
      ],
      "metadata": {
        "id": "70J825O9iaY-"
      },
      "execution_count": 90,
      "outputs": []
    },
    {
      "cell_type": "markdown",
      "source": [
        "5. Train"
      ],
      "metadata": {
        "id": "v-xOkvgsoKNL"
      }
    },
    {
      "cell_type": "code",
      "source": [
        "import utils\n",
        "total_time = 0\n",
        "disp_step = 10\n",
        "\n",
        "to_train = True\n",
        "if(to_train == False) :\n",
        "  netname = '/content/drive/MyDrive/학교 수업 자료/18. 심층학습/12주차/animal+utils/animal/weights/catdog_vgg19.pkl'\n",
        "  model = torch.load(netname)\n",
        "else :\n",
        "  print(\"3 layer, n_node: %d, dropratio: %.2f\" %(n_node, dropratio))\n",
        "  model.eval()\n",
        "  train_corr = utils.ComputeCorr(train_batch, model)\n",
        "  dev_corr = utils.ComputeCorr(dev_batch, model)\n",
        "  test_corr = utils.ComputeCorr(test_batch, model)\n",
        "  print(\"Correct of train: %.2f, dev : %.2f, test: %.2f\" %(train_corr, dev_corr, test_corr))\n",
        "  model.train()\n",
        "\n",
        "  netname = '/content/drive/MyDrive/학교 수업 자료/18. 심층학습/12주차/animal+utils/animal/weights/catdog_vgg19.pkl'\n",
        "\n",
        "  x_epoch = []\n",
        "  y_train_err = []\n",
        "  y_dev_err = []\n",
        "  y_test_err = []\n",
        "\n",
        "  x_epoch.append(0)\n",
        "  y_train_err.append(100.0 - train_corr)\n",
        "  y_dev_err.append(100.0 - dev_corr)\n",
        "  y_test_err.append(100.0 - test_corr)\n",
        "\n",
        "  # 학습을 재시작한다면\n",
        "  #netname = '/content/drive/MyDrive/학교 수업 자료/18. 심층학습/12주차/animal+utils/animal/weights/catdog_vgg19.pkl'\n",
        "  #model = torch.load(netname)\n",
        "  #파라미터 학습 여부 결정\n",
        "  #for params in model.layer0.parameters() :\n",
        "  # params.required_grad = False\n",
        "  #for params in model.layer1.parameters() :\n",
        "  # params.required_grad = True\n",
        "  #for i in range(34, epoch) :\n",
        "\n",
        "  # 재시작하지 않는 다면\n",
        "  for i in range(epoch) :\n",
        "    start_time = time.time()\n",
        "    print(\"%d..\" %i),\n",
        "    for img, label in train_batch :\n",
        "      img = Variable(img).cuda()\n",
        "      label = Variable(label).cuda()\n",
        "\n",
        "      optimizer.zero_grad()\n",
        "      output = model(img)\n",
        "      loss = loss_func(output, label)\n",
        "      loss.backward()\n",
        "      optimizer.step()\n",
        "\n",
        "      end_time = time.time()\n",
        "      duration = end_time - start_time\n",
        "      total_time += duration\n",
        "\n",
        "      if(i % disp_step == 0) or (i == epoch - 1) :\n",
        "        torch.save(model, netname+'%d.pkl'%i, )\n",
        "        print(\"\\n[%d/%d] loss : %.3f, \" %(i, epoch, (loss.cpu()).data.numpy())),\n",
        "\n",
        "        model.eval()\n",
        "\n",
        "        train_corr = utils.ComputeCorr(train_batch, model)\n",
        "        dev_corr = utils.ComputeCorr(dev_batch, model)\n",
        "        test_corr = utils.ComputeCorr(test_batch, model)\n",
        "\n",
        "        print(\"Correct of train: %.2f, dev : %.2f, test: %.2f\" %(train_corr, dev_corr, test_corr))\n",
        "        model.train()\n",
        "        print(\"time: %.2f sec ...\" %(total_time))\n",
        "\n",
        "        x_epoch.append(i+1)\n",
        "        y_train_err.append(100.0 - train_corr)\n",
        "        y_dev_err.append(100.0 - dev_corr)\n",
        "        y_test_err.append(100.0 - test_corr)\n",
        "  print(\"Total time: %.2f sec\" %total_time)\n"
      ],
      "metadata": {
        "colab": {
          "base_uri": "https://localhost:8080/",
          "height": 408
        },
        "id": "GHri2KJQoNAU",
        "outputId": "a6435d16-82c0-4f0d-a648-8f2f4eed262b"
      },
      "execution_count": 97,
      "outputs": [
        {
          "output_type": "stream",
          "name": "stdout",
          "text": [
            "3 layer, n_node: 1024, dropratio: 0.50\n"
          ]
        },
        {
          "output_type": "error",
          "ename": "AttributeError",
          "evalue": "ignored",
          "traceback": [
            "\u001b[0;31m---------------------------------------------------------------------------\u001b[0m",
            "\u001b[0;31mAttributeError\u001b[0m                            Traceback (most recent call last)",
            "\u001b[0;32m<ipython-input-97-e7b043e9719f>\u001b[0m in \u001b[0;36m<module>\u001b[0;34m()\u001b[0m\n\u001b[1;32m     10\u001b[0m   \u001b[0mprint\u001b[0m\u001b[0;34m(\u001b[0m\u001b[0;34m\"3 layer, n_node: %d, dropratio: %.2f\"\u001b[0m \u001b[0;34m%\u001b[0m\u001b[0;34m(\u001b[0m\u001b[0mn_node\u001b[0m\u001b[0;34m,\u001b[0m \u001b[0mdropratio\u001b[0m\u001b[0;34m)\u001b[0m\u001b[0;34m)\u001b[0m\u001b[0;34m\u001b[0m\u001b[0;34m\u001b[0m\u001b[0m\n\u001b[1;32m     11\u001b[0m   \u001b[0mmodel\u001b[0m\u001b[0;34m.\u001b[0m\u001b[0meval\u001b[0m\u001b[0;34m(\u001b[0m\u001b[0;34m)\u001b[0m\u001b[0;34m\u001b[0m\u001b[0;34m\u001b[0m\u001b[0m\n\u001b[0;32m---> 12\u001b[0;31m   \u001b[0mtrain_corr\u001b[0m \u001b[0;34m=\u001b[0m \u001b[0mutils\u001b[0m\u001b[0;34m.\u001b[0m\u001b[0mComputeCorr\u001b[0m\u001b[0;34m(\u001b[0m\u001b[0mtrain_batch\u001b[0m\u001b[0;34m,\u001b[0m \u001b[0mmodel\u001b[0m\u001b[0;34m)\u001b[0m\u001b[0;34m\u001b[0m\u001b[0;34m\u001b[0m\u001b[0m\n\u001b[0m\u001b[1;32m     13\u001b[0m   \u001b[0mdev_corr\u001b[0m \u001b[0;34m=\u001b[0m \u001b[0mutils\u001b[0m\u001b[0;34m.\u001b[0m\u001b[0mComputeCorr\u001b[0m\u001b[0;34m(\u001b[0m\u001b[0mdev_batch\u001b[0m\u001b[0;34m,\u001b[0m \u001b[0mmodel\u001b[0m\u001b[0;34m)\u001b[0m\u001b[0;34m\u001b[0m\u001b[0;34m\u001b[0m\u001b[0m\n\u001b[1;32m     14\u001b[0m   \u001b[0mtest_corr\u001b[0m \u001b[0;34m=\u001b[0m \u001b[0mutils\u001b[0m\u001b[0;34m.\u001b[0m\u001b[0mComputeCorr\u001b[0m\u001b[0;34m(\u001b[0m\u001b[0mtest_batch\u001b[0m\u001b[0;34m,\u001b[0m \u001b[0mmodel\u001b[0m\u001b[0;34m)\u001b[0m\u001b[0;34m\u001b[0m\u001b[0;34m\u001b[0m\u001b[0m\n",
            "\u001b[0;32m/content/utils.py\u001b[0m in \u001b[0;36mComputeCorr\u001b[0;34m(i_data_batch, i_model)\u001b[0m\n\u001b[1;32m     24\u001b[0m         \u001b[0mlabel\u001b[0m \u001b[0;34m=\u001b[0m \u001b[0mVariable\u001b[0m\u001b[0;34m(\u001b[0m\u001b[0mlabel\u001b[0m\u001b[0;34m)\u001b[0m\u001b[0;34m.\u001b[0m\u001b[0mcuda\u001b[0m\u001b[0;34m(\u001b[0m\u001b[0;34m)\u001b[0m\u001b[0;34m\u001b[0m\u001b[0;34m\u001b[0m\u001b[0m\n\u001b[1;32m     25\u001b[0m \u001b[0;34m\u001b[0m\u001b[0m\n\u001b[0;32m---> 26\u001b[0;31m         \u001b[0moutput\u001b[0m \u001b[0;34m=\u001b[0m \u001b[0mi_model\u001b[0m\u001b[0;34m(\u001b[0m\u001b[0mimg\u001b[0m\u001b[0;34m)\u001b[0m\u001b[0;34m\u001b[0m\u001b[0;34m\u001b[0m\u001b[0m\n\u001b[0m\u001b[1;32m     27\u001b[0m         \u001b[0m_\u001b[0m\u001b[0;34m,\u001b[0m \u001b[0moutput_index\u001b[0m \u001b[0;34m=\u001b[0m \u001b[0mtorch\u001b[0m\u001b[0;34m.\u001b[0m\u001b[0mmax\u001b[0m\u001b[0;34m(\u001b[0m\u001b[0moutput\u001b[0m\u001b[0;34m,\u001b[0m \u001b[0;36m1\u001b[0m\u001b[0;34m)\u001b[0m\u001b[0;34m\u001b[0m\u001b[0;34m\u001b[0m\u001b[0m\n\u001b[1;32m     28\u001b[0m \u001b[0;34m\u001b[0m\u001b[0m\n",
            "\u001b[0;32m/usr/local/lib/python3.7/dist-packages/torch/nn/modules/module.py\u001b[0m in \u001b[0;36m_call_impl\u001b[0;34m(self, *input, **kwargs)\u001b[0m\n\u001b[1;32m   1108\u001b[0m         if not (self._backward_hooks or self._forward_hooks or self._forward_pre_hooks or _global_backward_hooks\n\u001b[1;32m   1109\u001b[0m                 or _global_forward_hooks or _global_forward_pre_hooks):\n\u001b[0;32m-> 1110\u001b[0;31m             \u001b[0;32mreturn\u001b[0m \u001b[0mforward_call\u001b[0m\u001b[0;34m(\u001b[0m\u001b[0;34m*\u001b[0m\u001b[0minput\u001b[0m\u001b[0;34m,\u001b[0m \u001b[0;34m**\u001b[0m\u001b[0mkwargs\u001b[0m\u001b[0;34m)\u001b[0m\u001b[0;34m\u001b[0m\u001b[0;34m\u001b[0m\u001b[0m\n\u001b[0m\u001b[1;32m   1111\u001b[0m         \u001b[0;31m# Do not call functions when jit is used\u001b[0m\u001b[0;34m\u001b[0m\u001b[0;34m\u001b[0m\u001b[0;34m\u001b[0m\u001b[0m\n\u001b[1;32m   1112\u001b[0m         \u001b[0mfull_backward_hooks\u001b[0m\u001b[0;34m,\u001b[0m \u001b[0mnon_full_backward_hooks\u001b[0m \u001b[0;34m=\u001b[0m \u001b[0;34m[\u001b[0m\u001b[0;34m]\u001b[0m\u001b[0;34m,\u001b[0m \u001b[0;34m[\u001b[0m\u001b[0;34m]\u001b[0m\u001b[0;34m\u001b[0m\u001b[0;34m\u001b[0m\u001b[0m\n",
            "\u001b[0;32m<ipython-input-88-c7cdaef2488c>\u001b[0m in \u001b[0;36mforward\u001b[0;34m(self, x)\u001b[0m\n\u001b[1;32m     35\u001b[0m   \u001b[0;32mdef\u001b[0m \u001b[0mforward\u001b[0m\u001b[0;34m(\u001b[0m\u001b[0mself\u001b[0m\u001b[0;34m,\u001b[0m \u001b[0mx\u001b[0m\u001b[0;34m)\u001b[0m \u001b[0;34m:\u001b[0m\u001b[0;34m\u001b[0m\u001b[0;34m\u001b[0m\u001b[0m\n\u001b[1;32m     36\u001b[0m     \u001b[0mout\u001b[0m \u001b[0;34m=\u001b[0m \u001b[0mself\u001b[0m\u001b[0;34m.\u001b[0m\u001b[0mlayer0\u001b[0m\u001b[0;34m(\u001b[0m\u001b[0mx\u001b[0m\u001b[0;34m)\u001b[0m\u001b[0;34m,\u001b[0m\u001b[0;34m\u001b[0m\u001b[0;34m\u001b[0m\u001b[0m\n\u001b[0;32m---> 37\u001b[0;31m     \u001b[0mout\u001b[0m \u001b[0;34m=\u001b[0m \u001b[0mout\u001b[0m\u001b[0;34m.\u001b[0m\u001b[0mview\u001b[0m\u001b[0;34m(\u001b[0m\u001b[0;34m-\u001b[0m\u001b[0;36m1\u001b[0m\u001b[0;34m,\u001b[0m \u001b[0mout\u001b[0m\u001b[0;34m.\u001b[0m\u001b[0msize\u001b[0m\u001b[0;34m(\u001b[0m\u001b[0;36m0\u001b[0m\u001b[0;34m)\u001b[0m\u001b[0;34m)\u001b[0m\u001b[0;34m,\u001b[0m\u001b[0;34m\u001b[0m\u001b[0;34m\u001b[0m\u001b[0m\n\u001b[0m\u001b[1;32m     38\u001b[0m     \u001b[0mout\u001b[0m \u001b[0;34m=\u001b[0m \u001b[0mself\u001b[0m\u001b[0;34m.\u001b[0m\u001b[0mlayer1\u001b[0m\u001b[0;34m(\u001b[0m\u001b[0mout\u001b[0m\u001b[0;34m)\u001b[0m\u001b[0;34m\u001b[0m\u001b[0;34m\u001b[0m\u001b[0m\n\u001b[1;32m     39\u001b[0m     \u001b[0;32mreturn\u001b[0m \u001b[0mout\u001b[0m\u001b[0;34m\u001b[0m\u001b[0;34m\u001b[0m\u001b[0m\n",
            "\u001b[0;31mAttributeError\u001b[0m: 'tuple' object has no attribute 'view'"
          ]
        }
      ]
    },
    {
      "cell_type": "code",
      "source": [
        "if (to_train) :\n",
        "  plt.plot(x_epoch, y_train_err, color = 'black', label = 'train err', linestyle = '--')\n",
        "  plt.plot(x_epoch, y_dev_err, color = 'red', label = 'dev err')\n",
        "  plt.plot(x_epoch, y_test_err, color = 'blue', label = 'test err')\n",
        "\n",
        "  plt.xlabel('epoch')\n",
        "  plt.ylabel('err')\n",
        "  plt.title('epoch & err graph')\n",
        "  plt.legend(loc = 'upper right')\n",
        "  plt.show()"
      ],
      "metadata": {
        "id": "hA6nRYyuuizd"
      },
      "execution_count": null,
      "outputs": []
    },
    {
      "cell_type": "markdown",
      "source": [
        "6. Evaluation for dev & test data"
      ],
      "metadata": {
        "id": "v8Pf4tekvm3C"
      }
    },
    {
      "cell_type": "code",
      "source": [
        "model.eval()\n",
        "utils.EvaluateClassifier(dev_batch, model, dev_data.classes, batch_size)"
      ],
      "metadata": {
        "id": "9y8_ykWAvpix"
      },
      "execution_count": null,
      "outputs": []
    },
    {
      "cell_type": "code",
      "source": [
        "model.eval()\n",
        "_, _, _ = utils.EvaluateClassifier(test_batch, model, test_data.classes, batch_size)"
      ],
      "metadata": {
        "id": "hyFKSjSXvrIR"
      },
      "execution_count": null,
      "outputs": []
    },
    {
      "cell_type": "code",
      "source": [
        "utils.VisTFPred(dev_batch, model, test_data.classes, batch_size, i_n = 2)"
      ],
      "metadata": {
        "id": "609NGXghvrKm"
      },
      "execution_count": null,
      "outputs": []
    },
    {
      "cell_type": "code",
      "source": [
        ""
      ],
      "metadata": {
        "id": "Jaq5yE6HvrNN"
      },
      "execution_count": null,
      "outputs": []
    },
    {
      "cell_type": "code",
      "source": [
        ""
      ],
      "metadata": {
        "id": "Le-Xu8YavrP0"
      },
      "execution_count": null,
      "outputs": []
    },
    {
      "cell_type": "code",
      "source": [
        ""
      ],
      "metadata": {
        "id": "BPdjJ2WGvrSK"
      },
      "execution_count": null,
      "outputs": []
    }
  ]
}